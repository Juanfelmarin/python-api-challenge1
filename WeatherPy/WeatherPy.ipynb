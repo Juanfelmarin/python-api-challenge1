{
 "cells": [
  {
   "cell_type": "markdown",
   "metadata": {},
   "source": [
    "# WeatherPy\n",
    "\n",
    "---\n",
    "\n",
    "## Starter Code to Generate Random Geographic Coordinates and a List of Cities"
   ]
  },
  {
   "cell_type": "code",
   "execution_count": 12,
   "metadata": {
    "scrolled": true
   },
   "outputs": [
    {
     "data": {
      "text/plain": [
       "'e52551c4f72edabae5d605fceb3d1730'"
      ]
     },
     "execution_count": 12,
     "metadata": {},
     "output_type": "execute_result"
    }
   ],
   "source": [
    "# Dependencies and Setup\n",
    "import matplotlib.pyplot as plt\n",
    "import pandas as pd\n",
    "import numpy as np\n",
    "import requests\n",
    "import time\n",
    "from scipy.stats import linregress\n",
    "\n",
    "# Impor the OpenWeatherMap API key\n",
    "from api_keys import weather_api_key\n",
    "\n",
    "# Import citipy to determine the cities based on latitude and longitude\n",
    "from citipy import citipy\n",
    "\n",
    "weather_api_key\n",
    "\n"
   ]
  },
  {
   "cell_type": "markdown",
   "metadata": {},
   "source": [
    "### Generate the Cities List by Using the `citipy` Library"
   ]
  },
  {
   "cell_type": "code",
   "execution_count": 14,
   "metadata": {},
   "outputs": [
    {
     "name": "stdout",
     "output_type": "stream",
     "text": [
      "Number of cities in the list: 619\n"
     ]
    }
   ],
   "source": [
    "# Empty list for holding the latitude and longitude combinations\n",
    "lat_lngs = []\n",
    "\n",
    "# Empty list for holding the cities names\n",
    "cities = []\n",
    "\n",
    "# Range of latitudes and longitudes\n",
    "lat_range = (-90, 90)\n",
    "lng_range = (-180, 180)\n",
    "\n",
    "# Create a set of random lat and lng combinations\n",
    "lats = np.random.uniform(lat_range[0], lat_range[1], size=1500)\n",
    "lngs = np.random.uniform(lng_range[0], lng_range[1], size=1500)\n",
    "lat_lngs = zip(lats, lngs)\n",
    "\n",
    "# Identify nearest city for each lat, lng combination\n",
    "for lat_lng in lat_lngs:\n",
    "    city = citipy.nearest_city(lat_lng[0], lat_lng[1]).city_name\n",
    "    \n",
    "    # If the city is unique, then add it to a our cities list\n",
    "    if city not in cities:\n",
    "        cities.append(city)\n",
    "\n",
    "# Print the city count to confirm sufficient count\n",
    "print(f\"Number of cities in the list: {len(cities)}\")"
   ]
  },
  {
   "cell_type": "markdown",
   "metadata": {},
   "source": [
    "---"
   ]
  },
  {
   "cell_type": "markdown",
   "metadata": {},
   "source": [
    "## Requirement 1: Create Plots to Showcase the Relationship Between Weather Variables and Latitude\n",
    "\n",
    "### Use the OpenWeatherMap API to retrieve weather data from the cities list generated in the started code"
   ]
  },
  {
   "cell_type": "code",
   "execution_count": 15,
   "metadata": {},
   "outputs": [
    {
     "name": "stdout",
     "output_type": "stream",
     "text": [
      "Beginning Data Retrieval     \n",
      "-----------------------------\n",
      "Processing Record 1 of Set 1 | new norfolk\n",
      "Processing Record 2 of Set 1 | san patricio\n",
      "Processing Record 3 of Set 1 | haverfordwest\n",
      "Processing Record 4 of Set 1 | punta arenas\n",
      "Processing Record 5 of Set 1 | busselton\n",
      "Processing Record 6 of Set 1 | warmbad\n",
      "Processing Record 7 of Set 1 | zhigansk\n",
      "Processing Record 8 of Set 1 | cherskiy\n",
      "Processing Record 9 of Set 1 | kungurtug\n",
      "Processing Record 10 of Set 1 | hermanus\n",
      "Processing Record 11 of Set 1 | inhambane\n",
      "Processing Record 12 of Set 1 | rikitea\n",
      "Processing Record 13 of Set 1 | butaritari\n",
      "Processing Record 14 of Set 1 | dikson\n",
      "Processing Record 15 of Set 1 | katsuura\n",
      "Processing Record 16 of Set 1 | samusu\n",
      "City not found. Skipping...\n",
      "Processing Record 17 of Set 1 | ahipara\n",
      "Processing Record 18 of Set 1 | mataura\n",
      "Processing Record 19 of Set 1 | atuona\n",
      "Processing Record 20 of Set 1 | ushuaia\n",
      "Processing Record 21 of Set 1 | bredasdorp\n",
      "Processing Record 22 of Set 1 | kassala\n",
      "Processing Record 23 of Set 1 | port-gentil\n",
      "Processing Record 24 of Set 1 | oltu\n",
      "Processing Record 25 of Set 1 | ribas do rio pardo\n",
      "Processing Record 26 of Set 1 | kizukuri\n",
      "Processing Record 27 of Set 1 | esperance\n",
      "Processing Record 28 of Set 1 | geraldton\n",
      "Processing Record 29 of Set 1 | chokurdakh\n",
      "Processing Record 30 of Set 1 | jamestown\n",
      "Processing Record 31 of Set 1 | cozumel\n",
      "Processing Record 32 of Set 1 | plettenberg bay\n",
      "Processing Record 33 of Set 1 | clyde river\n",
      "Processing Record 34 of Set 1 | barrow\n",
      "Processing Record 35 of Set 1 | tasiilaq\n",
      "Processing Record 36 of Set 1 | nuevo progreso\n",
      "Processing Record 37 of Set 1 | litoral del san juan\n",
      "City not found. Skipping...\n",
      "Processing Record 38 of Set 1 | jeremie\n",
      "Processing Record 39 of Set 1 | vaini\n",
      "Processing Record 40 of Set 1 | airai\n",
      "Processing Record 41 of Set 1 | yellowknife\n",
      "Processing Record 42 of Set 1 | guerrero negro\n",
      "Processing Record 43 of Set 1 | qaanaaq\n",
      "Processing Record 44 of Set 1 | chuy\n",
      "Processing Record 45 of Set 1 | apatou\n",
      "Processing Record 46 of Set 1 | sorland\n",
      "Processing Record 47 of Set 1 | port elizabeth\n",
      "Processing Record 48 of Set 1 | coruripe\n",
      "Processing Record 49 of Set 1 | uruacu\n",
      "Processing Record 50 of Set 1 | mount isa\n",
      "Processing Record 0 of Set 2 | puro\n",
      "Processing Record 1 of Set 2 | eureka\n",
      "Processing Record 2 of Set 2 | kudahuvadhoo\n",
      "Processing Record 3 of Set 2 | hasaki\n",
      "Processing Record 4 of Set 2 | kununurra\n",
      "Processing Record 5 of Set 2 | meridian\n",
      "Processing Record 6 of Set 2 | pemangkat\n",
      "Processing Record 7 of Set 2 | bathsheba\n",
      "Processing Record 8 of Set 2 | hilo\n",
      "Processing Record 9 of Set 2 | toamasina\n",
      "Processing Record 10 of Set 2 | kapaa\n",
      "Processing Record 11 of Set 2 | cape town\n",
      "Processing Record 12 of Set 2 | barentsburg\n",
      "City not found. Skipping...\n",
      "Processing Record 13 of Set 2 | coquimbo\n",
      "Processing Record 14 of Set 2 | ribeira grande\n",
      "Processing Record 15 of Set 2 | codrington\n",
      "Processing Record 16 of Set 2 | liverpool\n",
      "Processing Record 17 of Set 2 | winona\n",
      "Processing Record 18 of Set 2 | bluff\n",
      "Processing Record 19 of Set 2 | cidreira\n",
      "Processing Record 20 of Set 2 | puerto ayora\n",
      "Processing Record 21 of Set 2 | hithadhoo\n",
      "Processing Record 22 of Set 2 | kenai\n",
      "Processing Record 23 of Set 2 | carnarvon\n",
      "Processing Record 24 of Set 2 | necochea\n",
      "Processing Record 25 of Set 2 | isangel\n",
      "Processing Record 26 of Set 2 | ramnagar\n",
      "Processing Record 27 of Set 2 | ilulissat\n",
      "Processing Record 28 of Set 2 | kaeo\n",
      "Processing Record 29 of Set 2 | clarence town\n",
      "Processing Record 30 of Set 2 | saint-philippe\n",
      "Processing Record 31 of Set 2 | namibe\n",
      "Processing Record 32 of Set 2 | attawapiskat\n",
      "City not found. Skipping...\n",
      "Processing Record 33 of Set 2 | grand river south east\n",
      "City not found. Skipping...\n",
      "Processing Record 34 of Set 2 | aranda de duero\n",
      "Processing Record 35 of Set 2 | cotonou\n",
      "Processing Record 36 of Set 2 | albany\n",
      "Processing Record 37 of Set 2 | tumannyy\n",
      "City not found. Skipping...\n",
      "Processing Record 38 of Set 2 | port alfred\n",
      "Processing Record 39 of Set 2 | quatre cocos\n",
      "Processing Record 40 of Set 2 | pevek\n",
      "Processing Record 41 of Set 2 | komsomolskiy\n",
      "Processing Record 42 of Set 2 | yulara\n",
      "Processing Record 43 of Set 2 | pontianak\n",
      "Processing Record 44 of Set 2 | carutapera\n",
      "Processing Record 45 of Set 2 | san bartolome\n",
      "Processing Record 46 of Set 2 | burnie\n",
      "Processing Record 47 of Set 2 | miramar\n",
      "Processing Record 48 of Set 2 | thompson\n",
      "Processing Record 49 of Set 2 | togur\n",
      "Processing Record 0 of Set 3 | chapais\n",
      "Processing Record 1 of Set 3 | mtambile\n",
      "Processing Record 2 of Set 3 | bengkulu\n",
      "Processing Record 3 of Set 3 | sur\n",
      "Processing Record 4 of Set 3 | longyearbyen\n",
      "Processing Record 5 of Set 3 | opuwo\n",
      "Processing Record 6 of Set 3 | taolanaro\n",
      "City not found. Skipping...\n",
      "Processing Record 7 of Set 3 | sabzevar\n",
      "Processing Record 8 of Set 3 | lodwar\n",
      "Processing Record 9 of Set 3 | bethel\n",
      "Processing Record 10 of Set 3 | cabo san lucas\n",
      "Processing Record 11 of Set 3 | rocha\n",
      "Processing Record 12 of Set 3 | kruisfontein\n",
      "Processing Record 13 of Set 3 | khatanga\n",
      "Processing Record 14 of Set 3 | naze\n",
      "Processing Record 15 of Set 3 | tartagal\n",
      "Processing Record 16 of Set 3 | san lorenzo\n",
      "Processing Record 17 of Set 3 | fort nelson\n",
      "Processing Record 18 of Set 3 | padang\n",
      "Processing Record 19 of Set 3 | maniitsoq\n",
      "Processing Record 20 of Set 3 | baturaja\n",
      "Processing Record 21 of Set 3 | tuktoyaktuk\n",
      "Processing Record 22 of Set 3 | avera\n",
      "Processing Record 23 of Set 3 | hobyo\n",
      "Processing Record 24 of Set 3 | longlac\n",
      "City not found. Skipping...\n",
      "Processing Record 25 of Set 3 | lagoa\n",
      "Processing Record 26 of Set 3 | shingu\n",
      "Processing Record 27 of Set 3 | harper\n",
      "Processing Record 28 of Set 3 | mahibadhoo\n",
      "Processing Record 29 of Set 3 | pisco\n",
      "Processing Record 30 of Set 3 | namatanai\n",
      "Processing Record 31 of Set 3 | campos\n",
      "Processing Record 32 of Set 3 | cerritos\n",
      "Processing Record 33 of Set 3 | kodiak\n",
      "Processing Record 34 of Set 3 | tunduru\n",
      "City not found. Skipping...\n",
      "Processing Record 35 of Set 3 | nizwa\n",
      "Processing Record 36 of Set 3 | varkaus\n",
      "Processing Record 37 of Set 3 | aasiaat\n",
      "Processing Record 38 of Set 3 | provideniya\n",
      "Processing Record 39 of Set 3 | dunedin\n",
      "Processing Record 40 of Set 3 | backa topola\n",
      "Processing Record 41 of Set 3 | fortuna\n",
      "Processing Record 42 of Set 3 | mys shmidta\n",
      "City not found. Skipping...\n",
      "Processing Record 43 of Set 3 | dalbandin\n",
      "Processing Record 44 of Set 3 | chenghai\n",
      "Processing Record 45 of Set 3 | luanda\n",
      "Processing Record 46 of Set 3 | mao\n",
      "Processing Record 47 of Set 3 | tabou\n",
      "Processing Record 48 of Set 3 | pedernales\n",
      "Processing Record 49 of Set 3 | doaba\n",
      "Processing Record 0 of Set 4 | matata\n",
      "Processing Record 1 of Set 4 | havoysund\n",
      "Processing Record 2 of Set 4 | faya\n",
      "Processing Record 3 of Set 4 | hansi\n",
      "Processing Record 4 of Set 4 | marsa matruh\n",
      "Processing Record 5 of Set 4 | kangaatsiaq\n",
      "Processing Record 6 of Set 4 | gujar khan\n",
      "Processing Record 7 of Set 4 | lavrentiya\n",
      "Processing Record 8 of Set 4 | kalmunai\n",
      "Processing Record 9 of Set 4 | terrace\n",
      "Processing Record 10 of Set 4 | hobart\n",
      "Processing Record 11 of Set 4 | karratha\n",
      "Processing Record 12 of Set 4 | mahebourg\n",
      "Processing Record 13 of Set 4 | tasbuget\n",
      "City not found. Skipping...\n",
      "Processing Record 14 of Set 4 | mouila\n",
      "Processing Record 15 of Set 4 | avarua\n",
      "Processing Record 16 of Set 4 | teya\n",
      "Processing Record 17 of Set 4 | san luis\n",
      "Processing Record 18 of Set 4 | betong\n",
      "Processing Record 19 of Set 4 | fare\n",
      "Processing Record 20 of Set 4 | grand gaube\n",
      "Processing Record 21 of Set 4 | yerbogachen\n",
      "Processing Record 22 of Set 4 | fenoarivo\n",
      "Processing Record 23 of Set 4 | bulgan\n",
      "Processing Record 24 of Set 4 | waddan\n",
      "Processing Record 25 of Set 4 | gazanjyk\n",
      "Processing Record 26 of Set 4 | altea\n",
      "Processing Record 27 of Set 4 | freeport\n",
      "Processing Record 28 of Set 4 | vila velha\n",
      "Processing Record 29 of Set 4 | moerai\n",
      "Processing Record 30 of Set 4 | upernavik\n",
      "Processing Record 31 of Set 4 | bam\n",
      "Processing Record 32 of Set 4 | tezu\n",
      "Processing Record 33 of Set 4 | lompoc\n",
      "Processing Record 34 of Set 4 | umm kaddadah\n",
      "Processing Record 35 of Set 4 | aksu\n",
      "Processing Record 36 of Set 4 | evensk\n",
      "Processing Record 37 of Set 4 | krasnyy chikoy\n",
      "Processing Record 38 of Set 4 | maraa\n",
      "Processing Record 39 of Set 4 | okhotsk\n",
      "Processing Record 40 of Set 4 | berlevag\n"
     ]
    },
    {
     "name": "stdout",
     "output_type": "stream",
     "text": [
      "Processing Record 41 of Set 4 | sundumbili\n",
      "Processing Record 42 of Set 4 | hamilton\n",
      "Processing Record 43 of Set 4 | ewa beach\n",
      "Processing Record 44 of Set 4 | itarema\n",
      "Processing Record 45 of Set 4 | ostrovnoy\n",
      "Processing Record 46 of Set 4 | ndioum\n",
      "Processing Record 47 of Set 4 | sajanan\n",
      "Processing Record 48 of Set 4 | anadyr\n",
      "Processing Record 49 of Set 4 | wichian buri\n",
      "Processing Record 0 of Set 5 | korla\n",
      "Processing Record 1 of Set 5 | balimo\n",
      "City not found. Skipping...\n",
      "Processing Record 2 of Set 5 | blagoveshchenka\n",
      "Processing Record 3 of Set 5 | higuey\n",
      "City not found. Skipping...\n",
      "Processing Record 4 of Set 5 | kavaratti\n",
      "Processing Record 5 of Set 5 | mount gambier\n",
      "Processing Record 6 of Set 5 | asau\n",
      "Processing Record 7 of Set 5 | kamenka\n",
      "Processing Record 8 of Set 5 | ziarat\n",
      "Processing Record 9 of Set 5 | port hardy\n",
      "Processing Record 10 of Set 5 | mogadishu\n",
      "Processing Record 11 of Set 5 | souillac\n",
      "Processing Record 12 of Set 5 | iqaluit\n",
      "Processing Record 13 of Set 5 | amapa\n",
      "Processing Record 14 of Set 5 | broome\n",
      "Processing Record 15 of Set 5 | nizhneyansk\n",
      "City not found. Skipping...\n",
      "Processing Record 16 of Set 5 | najran\n",
      "Processing Record 17 of Set 5 | vanimo\n",
      "Processing Record 18 of Set 5 | bilibino\n",
      "Processing Record 19 of Set 5 | omboue\n",
      "Processing Record 20 of Set 5 | fukue\n",
      "Processing Record 21 of Set 5 | east london\n",
      "Processing Record 22 of Set 5 | nhulunbuy\n",
      "Processing Record 23 of Set 5 | vaitupu\n",
      "City not found. Skipping...\n",
      "Processing Record 24 of Set 5 | kukmor\n",
      "Processing Record 25 of Set 5 | naifaru\n",
      "Processing Record 26 of Set 5 | macae\n",
      "Processing Record 27 of Set 5 | arraial do cabo\n",
      "Processing Record 28 of Set 5 | port lincoln\n",
      "Processing Record 29 of Set 5 | hualmay\n",
      "Processing Record 30 of Set 5 | broken hill\n",
      "Processing Record 31 of Set 5 | teguldet\n",
      "Processing Record 32 of Set 5 | hebertville\n",
      "City not found. Skipping...\n",
      "Processing Record 33 of Set 5 | marsh harbour\n",
      "Processing Record 34 of Set 5 | gagra\n",
      "Processing Record 35 of Set 5 | batagay-alyta\n",
      "Processing Record 36 of Set 5 | banjar\n",
      "Processing Record 37 of Set 5 | payakumbuh\n",
      "Processing Record 38 of Set 5 | labrea\n",
      "Processing Record 39 of Set 5 | georgetown\n",
      "Processing Record 40 of Set 5 | palabuhanratu\n",
      "City not found. Skipping...\n",
      "Processing Record 41 of Set 5 | aykhal\n",
      "Processing Record 42 of Set 5 | kahului\n",
      "Processing Record 43 of Set 5 | salinopolis\n",
      "Processing Record 44 of Set 5 | kaitangata\n",
      "Processing Record 45 of Set 5 | andenes\n",
      "Processing Record 46 of Set 5 | rudbar\n",
      "Processing Record 47 of Set 5 | alofi\n",
      "Processing Record 48 of Set 5 | cremona\n",
      "Processing Record 49 of Set 5 | seoul\n",
      "Processing Record 0 of Set 6 | patnanungan\n",
      "Processing Record 1 of Set 6 | ponta do sol\n",
      "Processing Record 2 of Set 6 | mocambique\n",
      "City not found. Skipping...\n",
      "Processing Record 3 of Set 6 | saint-pierre\n",
      "Processing Record 4 of Set 6 | jalu\n",
      "Processing Record 5 of Set 6 | aswan\n",
      "Processing Record 6 of Set 6 | umzimvubu\n",
      "City not found. Skipping...\n",
      "Processing Record 7 of Set 6 | seydi\n",
      "Processing Record 8 of Set 6 | lucera\n",
      "Processing Record 9 of Set 6 | rivera\n",
      "Processing Record 10 of Set 6 | torbay\n",
      "Processing Record 11 of Set 6 | brigham city\n",
      "Processing Record 12 of Set 6 | college\n",
      "Processing Record 13 of Set 6 | saskylakh\n",
      "Processing Record 14 of Set 6 | galveston\n",
      "Processing Record 15 of Set 6 | sao filipe\n",
      "Processing Record 16 of Set 6 | dakar\n",
      "Processing Record 17 of Set 6 | burns lake\n",
      "Processing Record 18 of Set 6 | yendi\n",
      "Processing Record 19 of Set 6 | ancud\n",
      "Processing Record 20 of Set 6 | mozhga\n",
      "Processing Record 21 of Set 6 | ambilobe\n",
      "Processing Record 22 of Set 6 | joshimath\n",
      "Processing Record 23 of Set 6 | daru\n",
      "Processing Record 24 of Set 6 | uwayl\n",
      "City not found. Skipping...\n",
      "Processing Record 25 of Set 6 | calama\n",
      "Processing Record 26 of Set 6 | grindavik\n",
      "Processing Record 27 of Set 6 | ovsyanka\n",
      "Processing Record 28 of Set 6 | illoqqortoormiut\n",
      "City not found. Skipping...\n",
      "Processing Record 29 of Set 6 | san cristobal\n",
      "Processing Record 30 of Set 6 | northam\n",
      "Processing Record 31 of Set 6 | celestun\n",
      "Processing Record 32 of Set 6 | la rioja\n",
      "Processing Record 33 of Set 6 | staryy nadym\n",
      "Processing Record 34 of Set 6 | black river\n",
      "Processing Record 35 of Set 6 | tuatapere\n",
      "Processing Record 36 of Set 6 | riacho de santana\n",
      "Processing Record 37 of Set 6 | comodoro rivadavia\n",
      "Processing Record 38 of Set 6 | constitucion\n",
      "Processing Record 39 of Set 6 | vestmannaeyjar\n",
      "Processing Record 40 of Set 6 | manaus\n",
      "Processing Record 41 of Set 6 | mar del plata\n",
      "Processing Record 42 of Set 6 | khonuu\n",
      "City not found. Skipping...\n",
      "Processing Record 43 of Set 6 | da nang\n",
      "Processing Record 44 of Set 6 | great falls\n",
      "Processing Record 45 of Set 6 | acajutla\n",
      "Processing Record 46 of Set 6 | druzhba\n",
      "Processing Record 47 of Set 6 | horn\n",
      "Processing Record 48 of Set 6 | tungkang\n",
      "City not found. Skipping...\n",
      "Processing Record 49 of Set 6 | basco\n",
      "Processing Record 0 of Set 7 | faanui\n",
      "Processing Record 1 of Set 7 | benghazi\n",
      "Processing Record 2 of Set 7 | nikolskoye\n",
      "Processing Record 3 of Set 7 | bairiki\n",
      "Processing Record 4 of Set 7 | russell\n",
      "Processing Record 5 of Set 7 | bolshoye selo\n",
      "Processing Record 6 of Set 7 | chitral\n",
      "Processing Record 7 of Set 7 | elko\n",
      "Processing Record 8 of Set 7 | grande prairie\n",
      "Processing Record 9 of Set 7 | longyan\n",
      "Processing Record 10 of Set 7 | jaisalmer\n",
      "Processing Record 11 of Set 7 | norman wells\n",
      "Processing Record 12 of Set 7 | santa rosa\n",
      "Processing Record 13 of Set 7 | mitsamiouli\n",
      "Processing Record 14 of Set 7 | houma\n",
      "Processing Record 15 of Set 7 | mayo\n",
      "Processing Record 16 of Set 7 | ardesen\n",
      "Processing Record 17 of Set 7 | svetlaya\n",
      "Processing Record 18 of Set 7 | puerto escondido\n",
      "Processing Record 19 of Set 7 | mayya\n",
      "Processing Record 20 of Set 7 | kutum\n",
      "Processing Record 21 of Set 7 | ndele\n",
      "Processing Record 22 of Set 7 | belushya guba\n",
      "City not found. Skipping...\n",
      "Processing Record 23 of Set 7 | fougamou\n",
      "Processing Record 24 of Set 7 | magnitogorsk\n",
      "Processing Record 25 of Set 7 | aksha\n",
      "Processing Record 26 of Set 7 | palmer\n",
      "Processing Record 27 of Set 7 | salalah\n",
      "Processing Record 28 of Set 7 | neuquen\n",
      "Processing Record 29 of Set 7 | bahia honda\n",
      "Processing Record 30 of Set 7 | pangnirtung\n",
      "Processing Record 31 of Set 7 | saint george\n",
      "Processing Record 32 of Set 7 | saleaula\n",
      "City not found. Skipping...\n",
      "Processing Record 33 of Set 7 | nouadhibou\n",
      "Processing Record 34 of Set 7 | onda\n",
      "Processing Record 35 of Set 7 | castro\n",
      "Processing Record 36 of Set 7 | benguela\n",
      "Processing Record 37 of Set 7 | kirakira\n",
      "Processing Record 38 of Set 7 | tukan\n",
      "Processing Record 39 of Set 7 | vila franca do campo\n",
      "Processing Record 40 of Set 7 | belonia\n",
      "Processing Record 41 of Set 7 | smithers\n",
      "Processing Record 42 of Set 7 | sa kaeo\n",
      "Processing Record 43 of Set 7 | urengoy\n",
      "Processing Record 44 of Set 7 | kupang\n",
      "Processing Record 45 of Set 7 | beatrice\n",
      "Processing Record 46 of Set 7 | marcona\n",
      "City not found. Skipping...\n",
      "Processing Record 47 of Set 7 | hofn\n",
      "Processing Record 48 of Set 7 | fairbanks\n",
      "Processing Record 49 of Set 7 | cap-aux-meules\n",
      "Processing Record 0 of Set 8 | winkler\n",
      "Processing Record 1 of Set 8 | khani\n",
      "Processing Record 2 of Set 8 | litovko\n",
      "Processing Record 3 of Set 8 | jumla\n",
      "Processing Record 4 of Set 8 | kyra\n",
      "Processing Record 5 of Set 8 | vrangel\n",
      "Processing Record 6 of Set 8 | eyl\n",
      "Processing Record 7 of Set 8 | labuhan\n",
      "Processing Record 8 of Set 8 | texarkana\n",
      "Processing Record 9 of Set 8 | tsihombe\n",
      "City not found. Skipping...\n",
      "Processing Record 10 of Set 8 | marandahalli\n",
      "Processing Record 11 of Set 8 | chicama\n",
      "Processing Record 12 of Set 8 | promyshlennyy\n",
      "Processing Record 13 of Set 8 | klaksvik\n",
      "Processing Record 14 of Set 8 | mbandaka\n",
      "Processing Record 15 of Set 8 | santa eulalia del rio\n",
      "City not found. Skipping...\n",
      "Processing Record 16 of Set 8 | falam\n",
      "Processing Record 17 of Set 8 | ahumada\n",
      "City not found. Skipping...\n",
      "Processing Record 18 of Set 8 | west wendover\n",
      "Processing Record 19 of Set 8 | gravdal\n",
      "Processing Record 20 of Set 8 | ksenyevka\n",
      "City not found. Skipping...\n",
      "Processing Record 21 of Set 8 | kotka\n",
      "Processing Record 22 of Set 8 | la ronge\n",
      "Processing Record 23 of Set 8 | laramie\n",
      "Processing Record 24 of Set 8 | nadym\n",
      "Processing Record 25 of Set 8 | ampanihy\n",
      "Processing Record 26 of Set 8 | kailua\n",
      "Processing Record 27 of Set 8 | kavieng\n"
     ]
    },
    {
     "name": "stdout",
     "output_type": "stream",
     "text": [
      "Processing Record 28 of Set 8 | chum phae\n",
      "Processing Record 29 of Set 8 | emerald\n",
      "Processing Record 30 of Set 8 | paso de los toros\n",
      "Processing Record 31 of Set 8 | sataua\n",
      "City not found. Skipping...\n",
      "Processing Record 32 of Set 8 | te anau\n",
      "Processing Record 33 of Set 8 | carauari\n",
      "Processing Record 34 of Set 8 | barawe\n",
      "City not found. Skipping...\n",
      "Processing Record 35 of Set 8 | sao joao da barra\n",
      "Processing Record 36 of Set 8 | tapaua\n",
      "City not found. Skipping...\n",
      "Processing Record 37 of Set 8 | sobolevo\n",
      "Processing Record 38 of Set 8 | kapit\n",
      "Processing Record 39 of Set 8 | tiksi\n",
      "Processing Record 40 of Set 8 | sioux lookout\n",
      "Processing Record 41 of Set 8 | sukhumi\n",
      "Processing Record 42 of Set 8 | puerto leguizamo\n",
      "Processing Record 43 of Set 8 | anchorage\n",
      "Processing Record 44 of Set 8 | gotsu\n",
      "Processing Record 45 of Set 8 | asfi\n",
      "Processing Record 46 of Set 8 | adrar\n",
      "Processing Record 47 of Set 8 | valparaiso\n",
      "Processing Record 48 of Set 8 | linfen\n",
      "Processing Record 49 of Set 8 | hameenlinna\n",
      "Processing Record 0 of Set 9 | kibre mengist\n",
      "Processing Record 1 of Set 9 | aljezur\n",
      "Processing Record 2 of Set 9 | yarada\n",
      "Processing Record 3 of Set 9 | superior\n",
      "Processing Record 4 of Set 9 | putina\n",
      "Processing Record 5 of Set 9 | carballo\n",
      "Processing Record 6 of Set 9 | lokosovo\n",
      "Processing Record 7 of Set 9 | pushkinskiye gory\n",
      "Processing Record 8 of Set 9 | farafenni\n",
      "Processing Record 9 of Set 9 | bosaso\n",
      "Processing Record 10 of Set 9 | santa lucia\n",
      "Processing Record 11 of Set 9 | aklavik\n",
      "Processing Record 12 of Set 9 | sharan\n",
      "Processing Record 13 of Set 9 | grand baie\n",
      "Processing Record 14 of Set 9 | koungou\n",
      "Processing Record 15 of Set 9 | ismailia\n",
      "Processing Record 16 of Set 9 | verkhnyaya inta\n",
      "Processing Record 17 of Set 9 | vianopolis\n",
      "Processing Record 18 of Set 9 | tigil\n",
      "Processing Record 19 of Set 9 | ayan\n",
      "Processing Record 20 of Set 9 | talnakh\n",
      "Processing Record 21 of Set 9 | imbituba\n",
      "Processing Record 22 of Set 9 | taoudenni\n",
      "Processing Record 23 of Set 9 | shache\n",
      "Processing Record 24 of Set 9 | hami\n",
      "Processing Record 25 of Set 9 | grand-lahou\n",
      "Processing Record 26 of Set 9 | ituni\n",
      "City not found. Skipping...\n",
      "Processing Record 27 of Set 9 | itoman\n",
      "Processing Record 28 of Set 9 | bur gabo\n",
      "City not found. Skipping...\n",
      "Processing Record 29 of Set 9 | ambunti\n",
      "Processing Record 30 of Set 9 | xiuyan\n",
      "Processing Record 31 of Set 9 | tambura\n",
      "Processing Record 32 of Set 9 | abu samrah\n",
      "Processing Record 33 of Set 9 | oussouye\n",
      "Processing Record 34 of Set 9 | shaoguan\n",
      "Processing Record 35 of Set 9 | jiancheng\n",
      "Processing Record 36 of Set 9 | hambantota\n",
      "Processing Record 37 of Set 9 | alta floresta\n",
      "Processing Record 38 of Set 9 | kamenskoye\n",
      "City not found. Skipping...\n",
      "Processing Record 39 of Set 9 | vila\n",
      "Processing Record 40 of Set 9 | leshukonskoye\n",
      "Processing Record 41 of Set 9 | tarso\n",
      "Processing Record 42 of Set 9 | progreso\n",
      "Processing Record 43 of Set 9 | morondava\n",
      "Processing Record 44 of Set 9 | sitka\n",
      "Processing Record 45 of Set 9 | ngorongoro\n",
      "Processing Record 46 of Set 9 | ulladulla\n",
      "Processing Record 47 of Set 9 | tarudant\n",
      "City not found. Skipping...\n",
      "Processing Record 48 of Set 9 | bahadurganj\n",
      "Processing Record 49 of Set 9 | san quintin\n",
      "Processing Record 0 of Set 10 | buraydah\n",
      "Processing Record 1 of Set 10 | barrhead\n",
      "Processing Record 2 of Set 10 | wucheng\n",
      "Processing Record 3 of Set 10 | gayny\n",
      "Processing Record 4 of Set 10 | honningsvag\n",
      "Processing Record 5 of Set 10 | omsukchan\n",
      "Processing Record 6 of Set 10 | tautira\n",
      "Processing Record 7 of Set 10 | havre-saint-pierre\n",
      "Processing Record 8 of Set 10 | bud\n",
      "Processing Record 9 of Set 10 | derac\n",
      "Processing Record 10 of Set 10 | newala\n",
      "Processing Record 11 of Set 10 | tupik\n",
      "Processing Record 12 of Set 10 | kayerkan\n",
      "Processing Record 13 of Set 10 | victoria\n",
      "Processing Record 14 of Set 10 | ngukurr\n",
      "City not found. Skipping...\n",
      "Processing Record 15 of Set 10 | pacific grove\n",
      "Processing Record 16 of Set 10 | ghanzi\n",
      "Processing Record 17 of Set 10 | luang prabang\n",
      "Processing Record 18 of Set 10 | fayaoue\n",
      "Processing Record 19 of Set 10 | luderitz\n",
      "Processing Record 20 of Set 10 | severo-kurilsk\n",
      "Processing Record 21 of Set 10 | nuevo imperial\n",
      "Processing Record 22 of Set 10 | tuggurt\n",
      "City not found. Skipping...\n",
      "Processing Record 23 of Set 10 | mithimna\n",
      "City not found. Skipping...\n",
      "Processing Record 24 of Set 10 | bay roberts\n",
      "Processing Record 25 of Set 10 | furano\n",
      "Processing Record 26 of Set 10 | beringovskiy\n",
      "Processing Record 27 of Set 10 | aranos\n",
      "Processing Record 28 of Set 10 | amderma\n",
      "City not found. Skipping...\n",
      "Processing Record 29 of Set 10 | vao\n",
      "Processing Record 30 of Set 10 | dzilam gonzalez\n",
      "Processing Record 31 of Set 10 | yakeshi\n",
      "Processing Record 32 of Set 10 | ipixuna\n",
      "Processing Record 33 of Set 10 | valdivia\n",
      "Processing Record 34 of Set 10 | bandarbeyla\n",
      "Processing Record 35 of Set 10 | monrovia\n",
      "Processing Record 36 of Set 10 | cayenne\n",
      "Processing Record 37 of Set 10 | erzincan\n",
      "Processing Record 38 of Set 10 | noumea\n",
      "Processing Record 39 of Set 10 | whitehorse\n",
      "Processing Record 40 of Set 10 | angoche\n",
      "Processing Record 41 of Set 10 | lata\n",
      "Processing Record 42 of Set 10 | fiumicino\n",
      "Processing Record 43 of Set 10 | louga\n",
      "Processing Record 44 of Set 10 | adre\n",
      "Processing Record 45 of Set 10 | jieshi\n",
      "Processing Record 46 of Set 10 | atambua\n",
      "Processing Record 47 of Set 10 | la asuncion\n",
      "Processing Record 48 of Set 10 | hermiston\n",
      "Processing Record 49 of Set 10 | pouembout\n",
      "Processing Record 0 of Set 11 | pogar\n",
      "Processing Record 1 of Set 11 | flinders\n",
      "Processing Record 2 of Set 11 | oriximina\n",
      "Processing Record 3 of Set 11 | mandera\n",
      "Processing Record 4 of Set 11 | tarare\n",
      "Processing Record 5 of Set 11 | harjavalta\n",
      "Processing Record 6 of Set 11 | varhaug\n",
      "Processing Record 7 of Set 11 | manaure\n",
      "Processing Record 8 of Set 11 | waiuku\n",
      "Processing Record 9 of Set 11 | roald\n",
      "Processing Record 10 of Set 11 | muli\n",
      "Processing Record 11 of Set 11 | san ignacio\n",
      "Processing Record 12 of Set 11 | lahat\n",
      "Processing Record 13 of Set 11 | chagda\n",
      "City not found. Skipping...\n",
      "Processing Record 14 of Set 11 | dingle\n",
      "Processing Record 15 of Set 11 | lindi\n",
      "Processing Record 16 of Set 11 | siocon\n",
      "Processing Record 17 of Set 11 | altagracia de orituco\n",
      "Processing Record 18 of Set 11 | isla mujeres\n",
      "Processing Record 19 of Set 11 | mahon\n",
      "Processing Record 20 of Set 11 | arroio dos ratos\n",
      "Processing Record 21 of Set 11 | qaqortoq\n",
      "Processing Record 22 of Set 11 | biak\n",
      "Processing Record 23 of Set 11 | gamboma\n",
      "Processing Record 24 of Set 11 | tarija\n",
      "Processing Record 25 of Set 11 | los llanos de aridane\n",
      "Processing Record 26 of Set 11 | goundam\n",
      "Processing Record 27 of Set 11 | port blair\n",
      "Processing Record 28 of Set 11 | gat\n",
      "Processing Record 29 of Set 11 | los pozos\n",
      "Processing Record 30 of Set 11 | barcelos\n",
      "Processing Record 31 of Set 11 | wladyslawowo\n",
      "Processing Record 32 of Set 11 | jaciara\n",
      "Processing Record 33 of Set 11 | richards bay\n",
      "Processing Record 34 of Set 11 | lebu\n",
      "Processing Record 35 of Set 11 | leningradskiy\n",
      "Processing Record 36 of Set 11 | limay\n",
      "Processing Record 37 of Set 11 | ha giang\n",
      "Processing Record 38 of Set 11 | port hedland\n",
      "Processing Record 39 of Set 11 | qui nhon\n",
      "Processing Record 40 of Set 11 | townsville\n",
      "Processing Record 41 of Set 11 | acapulco\n",
      "Processing Record 42 of Set 11 | tanout\n",
      "Processing Record 43 of Set 11 | pierre\n",
      "Processing Record 44 of Set 11 | borogontsy\n",
      "Processing Record 45 of Set 11 | susanville\n",
      "Processing Record 46 of Set 11 | sistranda\n",
      "Processing Record 47 of Set 11 | abu kamal\n",
      "Processing Record 48 of Set 11 | zykovo\n",
      "Processing Record 49 of Set 11 | jieshou\n",
      "Processing Record 0 of Set 12 | corning\n",
      "Processing Record 1 of Set 12 | coihaique\n",
      "Processing Record 2 of Set 12 | mount pleasant\n",
      "Processing Record 3 of Set 12 | tottori\n",
      "Processing Record 4 of Set 12 | campo maior\n",
      "Processing Record 5 of Set 12 | bambous virieux\n",
      "Processing Record 6 of Set 12 | sabang\n",
      "Processing Record 7 of Set 12 | ratho\n",
      "Processing Record 8 of Set 12 | karamay\n",
      "City not found. Skipping...\n",
      "Processing Record 9 of Set 12 | katakwi\n",
      "Processing Record 10 of Set 12 | rungata\n",
      "City not found. Skipping...\n",
      "Processing Record 11 of Set 12 | ust-uda\n",
      "Processing Record 12 of Set 12 | azimur\n",
      "City not found. Skipping...\n",
      "Processing Record 13 of Set 12 | samarai\n",
      "Processing Record 14 of Set 12 | pakxe\n"
     ]
    },
    {
     "name": "stdout",
     "output_type": "stream",
     "text": [
      "Processing Record 15 of Set 12 | sabancuy\n",
      "Processing Record 16 of Set 12 | half moon bay\n",
      "Processing Record 17 of Set 12 | ilave\n",
      "Processing Record 18 of Set 12 | batagay\n",
      "Processing Record 19 of Set 12 | poum\n",
      "Processing Record 20 of Set 12 | slavonice\n",
      "Processing Record 21 of Set 12 | bijie\n",
      "Processing Record 22 of Set 12 | pacaembu\n",
      "Processing Record 23 of Set 12 | murray\n",
      "Processing Record 24 of Set 12 | paysandu\n",
      "Processing Record 25 of Set 12 | maralal\n",
      "Processing Record 26 of Set 12 | leh\n",
      "Processing Record 27 of Set 12 | vangaindrano\n",
      "Processing Record 28 of Set 12 | deputatskiy\n",
      "Processing Record 29 of Set 12 | tonj\n",
      "Processing Record 30 of Set 12 | parabel\n",
      "Processing Record 31 of Set 12 | belmonte\n",
      "Processing Record 32 of Set 12 | tabas\n",
      "Processing Record 33 of Set 12 | saint-augustin\n",
      "Processing Record 34 of Set 12 | narasannapeta\n",
      "Processing Record 35 of Set 12 | coahuayana\n",
      "Processing Record 36 of Set 12 | skerries\n",
      "Processing Record 37 of Set 12 | soligalich\n",
      "Processing Record 38 of Set 12 | camacha\n",
      "Processing Record 39 of Set 12 | dalumangcob\n",
      "Processing Record 40 of Set 12 | gimli\n",
      "Processing Record 41 of Set 12 | sentyabrskiy\n",
      "City not found. Skipping...\n",
      "Processing Record 42 of Set 12 | ballina\n",
      "Processing Record 43 of Set 12 | basoko\n",
      "Processing Record 44 of Set 12 | port-cartier\n",
      "Processing Record 45 of Set 12 | govindgarh\n",
      "Processing Record 46 of Set 12 | luorong\n",
      "Processing Record 47 of Set 12 | fatikchhari\n",
      "City not found. Skipping...\n",
      "Processing Record 48 of Set 12 | morehead\n",
      "Processing Record 49 of Set 12 | shitanjing\n",
      "Processing Record 0 of Set 13 | healdsburg\n",
      "Processing Record 1 of Set 13 | derzhavinsk\n",
      "Processing Record 2 of Set 13 | miraflores\n",
      "Processing Record 3 of Set 13 | hihifo\n",
      "City not found. Skipping...\n",
      "Processing Record 4 of Set 13 | banda aceh\n",
      "Processing Record 5 of Set 13 | chacabuco\n",
      "Processing Record 6 of Set 13 | rovaniemi\n",
      "Processing Record 7 of Set 13 | margate\n",
      "Processing Record 8 of Set 13 | rumonge\n",
      "Processing Record 9 of Set 13 | rafsanjan\n",
      "Processing Record 10 of Set 13 | ponta delgada\n",
      "Processing Record 11 of Set 13 | matara\n",
      "Processing Record 12 of Set 13 | washougal\n",
      "Processing Record 13 of Set 13 | bibiani\n",
      "Processing Record 14 of Set 13 | bara\n",
      "Processing Record 15 of Set 13 | aloleng\n",
      "Processing Record 16 of Set 13 | morant bay\n",
      "Processing Record 17 of Set 13 | taltal\n",
      "Processing Record 18 of Set 13 | caravelas\n",
      "-----------------------------\n",
      "Data Retrieval Complete      \n",
      "-----------------------------\n"
     ]
    }
   ],
   "source": [
    "# Set the API base URL\n",
    "url = \"http://api.openweathermap.org/data/2.5/weather?\"\n",
    "\n",
    "# Define an empty list to fetch the weather data for each city\n",
    "city_data = []\n",
    "\n",
    "# Print to logger\n",
    "print(\"Beginning Data Retrieval     \")\n",
    "print(\"-----------------------------\")\n",
    "\n",
    "# Create counters\n",
    "record_count = 1\n",
    "set_count = 1\n",
    "\n",
    "# Loop through all the cities in our list to fetch weather data\n",
    "for i, city in enumerate(cities):\n",
    "        \n",
    "    # Group cities in sets of 50 for logging purposes\n",
    "    if (i % 50 == 0 and i >= 50):\n",
    "        set_count += 1\n",
    "        record_count = 0\n",
    "\n",
    "    # Create endpoint URL with each city\n",
    "    city_url = f\"{url}&q={city}\"\n",
    "    \n",
    "    # Log the url, record, and set numbers\n",
    "    print(f\"Processing Record {record_count} of Set {set_count} | {city}\")\n",
    "\n",
    "    # Add 1 to the record count\n",
    "    record_count += 1\n",
    "\n",
    "    # Run an API request for each of the cities\n",
    "    try:\n",
    "        # Parse the JSON and retrieve data\n",
    "        weather = requests.get(city_url).json()\n",
    "\n",
    "        # Parse out latitude, longitude, max temp, humidity, cloudiness, wind speed, country, and date\n",
    "        city_lat = weather['coord']['lat']\n",
    "        city_lng = weather['coord']['lon']\n",
    "        city_max_temp = weather['main']['temp_max']\n",
    "        city_humidity = weather['main']['humidity']\n",
    "        city_clouds = weather['clouds']['all']\n",
    "        city_wind = weather ['wind']['speed']\n",
    "        city_country = weather['sys']['country']\n",
    "        city_date = weather['dt']\n",
    "\n",
    "        # Append the City information into city_data list\n",
    "        city_data.append({\"City\": city, \n",
    "                          \"Lat\": city_lat, \n",
    "                          \"Lng\": city_lng, \n",
    "                          \"Max Temp\": city_max_temp,\n",
    "                          \"Humidity\": city_humidity,\n",
    "                          \"Cloudiness\": city_clouds,\n",
    "                          \"Wind Speed\": city_wind,\n",
    "                          \"Country\": city_country,\n",
    "                          \"Date\": city_date})\n",
    "\n",
    "    # If an error is experienced, skip the city\n",
    "    except:\n",
    "        print(\"City not found. Skipping...\")\n",
    "        pass\n",
    "              \n",
    "# Indicate that Data Loading is complete \n",
    "print(\"-----------------------------\")\n",
    "print(\"Data Retrieval Complete      \")\n",
    "print(\"-----------------------------\")"
   ]
  },
  {
   "cell_type": "code",
   "execution_count": 34,
   "metadata": {},
   "outputs": [
    {
     "data": {
      "text/plain": [
       "City          571\n",
       "Lat           571\n",
       "Lng           571\n",
       "Max Temp      571\n",
       "Humidity      571\n",
       "Cloudiness    571\n",
       "Wind Speed    571\n",
       "Country       571\n",
       "Date          571\n",
       "dtype: int64"
      ]
     },
     "execution_count": 34,
     "metadata": {},
     "output_type": "execute_result"
    }
   ],
   "source": [
    "# Convert the cities weather data into a Pandas DataFrame\n",
    "                    \n",
    "city_data_df= pd.DataFrame(city_data)  \n",
    "city_data_df\n",
    "\n",
    "# Show Record Count\n",
    "\n",
    "city_data_df.count()"
   ]
  },
  {
   "cell_type": "code",
   "execution_count": 35,
   "metadata": {},
   "outputs": [
    {
     "data": {
      "text/html": [
       "<div>\n",
       "<style scoped>\n",
       "    .dataframe tbody tr th:only-of-type {\n",
       "        vertical-align: middle;\n",
       "    }\n",
       "\n",
       "    .dataframe tbody tr th {\n",
       "        vertical-align: top;\n",
       "    }\n",
       "\n",
       "    .dataframe thead th {\n",
       "        text-align: right;\n",
       "    }\n",
       "</style>\n",
       "<table border=\"1\" class=\"dataframe\">\n",
       "  <thead>\n",
       "    <tr style=\"text-align: right;\">\n",
       "      <th></th>\n",
       "      <th>City</th>\n",
       "      <th>Lat</th>\n",
       "      <th>Lng</th>\n",
       "      <th>Max Temp</th>\n",
       "      <th>Humidity</th>\n",
       "      <th>Cloudiness</th>\n",
       "      <th>Wind Speed</th>\n",
       "      <th>Country</th>\n",
       "      <th>Date</th>\n",
       "    </tr>\n",
       "  </thead>\n",
       "  <tbody>\n",
       "    <tr>\n",
       "      <th>0</th>\n",
       "      <td>new norfolk</td>\n",
       "      <td>-42.7826</td>\n",
       "      <td>147.0587</td>\n",
       "      <td>56.91</td>\n",
       "      <td>68</td>\n",
       "      <td>98</td>\n",
       "      <td>5.99</td>\n",
       "      <td>AU</td>\n",
       "      <td>1669480309</td>\n",
       "    </tr>\n",
       "    <tr>\n",
       "      <th>1</th>\n",
       "      <td>san patricio</td>\n",
       "      <td>28.0170</td>\n",
       "      <td>-97.5169</td>\n",
       "      <td>62.47</td>\n",
       "      <td>54</td>\n",
       "      <td>42</td>\n",
       "      <td>16.71</td>\n",
       "      <td>US</td>\n",
       "      <td>1669480309</td>\n",
       "    </tr>\n",
       "    <tr>\n",
       "      <th>2</th>\n",
       "      <td>haverfordwest</td>\n",
       "      <td>51.8017</td>\n",
       "      <td>-4.9691</td>\n",
       "      <td>54.05</td>\n",
       "      <td>95</td>\n",
       "      <td>100</td>\n",
       "      <td>8.99</td>\n",
       "      <td>GB</td>\n",
       "      <td>1669480309</td>\n",
       "    </tr>\n",
       "    <tr>\n",
       "      <th>3</th>\n",
       "      <td>punta arenas</td>\n",
       "      <td>-53.1500</td>\n",
       "      <td>-70.9167</td>\n",
       "      <td>53.62</td>\n",
       "      <td>54</td>\n",
       "      <td>75</td>\n",
       "      <td>24.16</td>\n",
       "      <td>CL</td>\n",
       "      <td>1669480310</td>\n",
       "    </tr>\n",
       "    <tr>\n",
       "      <th>4</th>\n",
       "      <td>busselton</td>\n",
       "      <td>-33.6500</td>\n",
       "      <td>115.3333</td>\n",
       "      <td>51.69</td>\n",
       "      <td>83</td>\n",
       "      <td>2</td>\n",
       "      <td>11.05</td>\n",
       "      <td>AU</td>\n",
       "      <td>1669480310</td>\n",
       "    </tr>\n",
       "  </tbody>\n",
       "</table>\n",
       "</div>"
      ],
      "text/plain": [
       "            City      Lat       Lng  Max Temp  Humidity  Cloudiness  \\\n",
       "0    new norfolk -42.7826  147.0587     56.91        68          98   \n",
       "1   san patricio  28.0170  -97.5169     62.47        54          42   \n",
       "2  haverfordwest  51.8017   -4.9691     54.05        95         100   \n",
       "3   punta arenas -53.1500  -70.9167     53.62        54          75   \n",
       "4      busselton -33.6500  115.3333     51.69        83           2   \n",
       "\n",
       "   Wind Speed Country        Date  \n",
       "0        5.99      AU  1669480309  \n",
       "1       16.71      US  1669480309  \n",
       "2        8.99      GB  1669480309  \n",
       "3       24.16      CL  1669480310  \n",
       "4       11.05      AU  1669480310  "
      ]
     },
     "execution_count": 35,
     "metadata": {},
     "output_type": "execute_result"
    }
   ],
   "source": [
    "# Display sample data\n",
    "city_data_df.head()"
   ]
  },
  {
   "cell_type": "code",
   "execution_count": 36,
   "metadata": {},
   "outputs": [],
   "source": [
    "# Export the City_Data into a csv\n",
    "city_data_df.to_csv(\"/users/juanmarin/desktop/Data_Bootcamp/python-api-challenge1/WeatherPy/Starter_Code_5/output_data/cities.csv\", index_label=\"City_ID\")"
   ]
  },
  {
   "cell_type": "code",
   "execution_count": 37,
   "metadata": {},
   "outputs": [
    {
     "data": {
      "text/html": [
       "<div>\n",
       "<style scoped>\n",
       "    .dataframe tbody tr th:only-of-type {\n",
       "        vertical-align: middle;\n",
       "    }\n",
       "\n",
       "    .dataframe tbody tr th {\n",
       "        vertical-align: top;\n",
       "    }\n",
       "\n",
       "    .dataframe thead th {\n",
       "        text-align: right;\n",
       "    }\n",
       "</style>\n",
       "<table border=\"1\" class=\"dataframe\">\n",
       "  <thead>\n",
       "    <tr style=\"text-align: right;\">\n",
       "      <th></th>\n",
       "      <th>City</th>\n",
       "      <th>Lat</th>\n",
       "      <th>Lng</th>\n",
       "      <th>Max Temp</th>\n",
       "      <th>Humidity</th>\n",
       "      <th>Cloudiness</th>\n",
       "      <th>Wind Speed</th>\n",
       "      <th>Country</th>\n",
       "      <th>Date</th>\n",
       "    </tr>\n",
       "    <tr>\n",
       "      <th>City_ID</th>\n",
       "      <th></th>\n",
       "      <th></th>\n",
       "      <th></th>\n",
       "      <th></th>\n",
       "      <th></th>\n",
       "      <th></th>\n",
       "      <th></th>\n",
       "      <th></th>\n",
       "      <th></th>\n",
       "    </tr>\n",
       "  </thead>\n",
       "  <tbody>\n",
       "    <tr>\n",
       "      <th>0</th>\n",
       "      <td>new norfolk</td>\n",
       "      <td>-42.7826</td>\n",
       "      <td>147.0587</td>\n",
       "      <td>56.91</td>\n",
       "      <td>68</td>\n",
       "      <td>98</td>\n",
       "      <td>5.99</td>\n",
       "      <td>AU</td>\n",
       "      <td>1669480309</td>\n",
       "    </tr>\n",
       "    <tr>\n",
       "      <th>1</th>\n",
       "      <td>san patricio</td>\n",
       "      <td>28.0170</td>\n",
       "      <td>-97.5169</td>\n",
       "      <td>62.47</td>\n",
       "      <td>54</td>\n",
       "      <td>42</td>\n",
       "      <td>16.71</td>\n",
       "      <td>US</td>\n",
       "      <td>1669480309</td>\n",
       "    </tr>\n",
       "    <tr>\n",
       "      <th>2</th>\n",
       "      <td>haverfordwest</td>\n",
       "      <td>51.8017</td>\n",
       "      <td>-4.9691</td>\n",
       "      <td>54.05</td>\n",
       "      <td>95</td>\n",
       "      <td>100</td>\n",
       "      <td>8.99</td>\n",
       "      <td>GB</td>\n",
       "      <td>1669480309</td>\n",
       "    </tr>\n",
       "    <tr>\n",
       "      <th>3</th>\n",
       "      <td>punta arenas</td>\n",
       "      <td>-53.1500</td>\n",
       "      <td>-70.9167</td>\n",
       "      <td>53.62</td>\n",
       "      <td>54</td>\n",
       "      <td>75</td>\n",
       "      <td>24.16</td>\n",
       "      <td>CL</td>\n",
       "      <td>1669480310</td>\n",
       "    </tr>\n",
       "    <tr>\n",
       "      <th>4</th>\n",
       "      <td>busselton</td>\n",
       "      <td>-33.6500</td>\n",
       "      <td>115.3333</td>\n",
       "      <td>51.69</td>\n",
       "      <td>83</td>\n",
       "      <td>2</td>\n",
       "      <td>11.05</td>\n",
       "      <td>AU</td>\n",
       "      <td>1669480310</td>\n",
       "    </tr>\n",
       "  </tbody>\n",
       "</table>\n",
       "</div>"
      ],
      "text/plain": [
       "                  City      Lat       Lng  Max Temp  Humidity  Cloudiness  \\\n",
       "City_ID                                                                     \n",
       "0          new norfolk -42.7826  147.0587     56.91        68          98   \n",
       "1         san patricio  28.0170  -97.5169     62.47        54          42   \n",
       "2        haverfordwest  51.8017   -4.9691     54.05        95         100   \n",
       "3         punta arenas -53.1500  -70.9167     53.62        54          75   \n",
       "4            busselton -33.6500  115.3333     51.69        83           2   \n",
       "\n",
       "         Wind Speed Country        Date  \n",
       "City_ID                                  \n",
       "0              5.99      AU  1669480309  \n",
       "1             16.71      US  1669480309  \n",
       "2              8.99      GB  1669480309  \n",
       "3             24.16      CL  1669480310  \n",
       "4             11.05      AU  1669480310  "
      ]
     },
     "execution_count": 37,
     "metadata": {},
     "output_type": "execute_result"
    }
   ],
   "source": [
    "# Read saved data\n",
    "city_data_df = pd.read_csv(\"/users/juanmarin/desktop/Data_Bootcamp/python-api-challenge1/WeatherPy/Starter_Code_5/output_data/cities.csv\", index_col=\"City_ID\")\n",
    "\n",
    "# Display sample data\n",
    "city_data_df.head()"
   ]
  },
  {
   "cell_type": "markdown",
   "metadata": {},
   "source": [
    "### Create the Scatter Plots Requested\n",
    "\n",
    "#### Latitude Vs. Temperature"
   ]
  },
  {
   "cell_type": "code",
   "execution_count": 38,
   "metadata": {
    "tags": []
   },
   "outputs": [
    {
     "data": {
      "image/png": "[encoded data removed]",
      "text/plain": [
       "<Figure size 360x360 with 1 Axes>"
      ]
     },
     "metadata": {
      "needs_background": "light"
     },
     "output_type": "display_data"
    }
   ],
   "source": [
    "# Build scatter plot for latitude vs. temperature\n",
    "city_data_df.plot.scatter(x=['Lat'], y=['Max Temp'], grid=True, figsize = (5,5), title= \"Latitude VS Temperature\")\n",
    "\n",
    "\n",
    "# Save the figure\n",
    "plt.savefig(\"/users/juanmarin/desktop/Data_Bootcamp/python-api-challenge1/WeatherPy/Starter_Code_5/output_data/Fig1.png\")\n",
    "\n",
    "# Show plot\n",
    "plt.show()"
   ]
  },
  {
   "cell_type": "markdown",
   "metadata": {},
   "source": [
    "#### Latitude Vs. Humidity"
   ]
  },
  {
   "cell_type": "code",
   "execution_count": 39,
   "metadata": {},
   "outputs": [
    {
     "data": {
      "image/png": "[encoded data removed]",
      "text/plain": [
       "<Figure size 360x360 with 1 Axes>"
      ]
     },
     "metadata": {
      "needs_background": "light"
     },
     "output_type": "display_data"
    }
   ],
   "source": [
    "# Build the scatter plots for latitude vs. humidity\n",
    "city_data_df.plot.scatter(x=['Lat'], y=['Humidity'], grid=True, figsize = (5,5), title= \"Latitude VS Humidity\")\n",
    "# Save the figure\n",
    "plt.savefig(\"/users/juanmarin/desktop/Data_Bootcamp/python-api-challenge1/WeatherPy/Starter_Code_5/output_data/Fig2.png\")\n",
    "\n",
    "# Show plot\n",
    "plt.show()"
   ]
  },
  {
   "cell_type": "markdown",
   "metadata": {},
   "source": [
    "#### Latitude Vs. Cloudiness"
   ]
  },
  {
   "cell_type": "code",
   "execution_count": 40,
   "metadata": {},
   "outputs": [
    {
     "data": {
      "image/png": "[encoded data removed]",
      "text/plain": [
       "<Figure size 360x360 with 1 Axes>"
      ]
     },
     "metadata": {
      "needs_background": "light"
     },
     "output_type": "display_data"
    }
   ],
   "source": [
    "# Build the scatter plots for latitude vs. cloudiness\n",
    "city_data_df.plot.scatter(x=['Lat'], y=['Cloudiness'], grid=True, figsize = (5,5), title= \"Latitude VS Cloudiness\")\n",
    "\n",
    "# Save the figure\n",
    "plt.savefig(\"/users/juanmarin/desktop/Data_Bootcamp/python-api-challenge1/WeatherPy/Starter_Code_5/output_data/Fig3.png\")\n",
    "\n",
    "# Show plot\n",
    "plt.show()"
   ]
  },
  {
   "cell_type": "markdown",
   "metadata": {},
   "source": [
    "#### Latitude vs. Wind Speed Plot"
   ]
  },
  {
   "cell_type": "code",
   "execution_count": 41,
   "metadata": {},
   "outputs": [
    {
     "data": {
      "image/png": "[encoded data removed]",
      "text/plain": [
       "<Figure size 360x360 with 1 Axes>"
      ]
     },
     "metadata": {
      "needs_background": "light"
     },
     "output_type": "display_data"
    }
   ],
   "source": [
    "# Build the scatter plots for latitude vs. wind speed\n",
    "city_data_df.plot.scatter(x=['Lat'], y=['Wind Speed'], grid=True, figsize = (5,5), title= \"Latitude VS Wind Speed\")\n",
    "\n",
    "# Save the figure\n",
    "plt.savefig(\"/users/juanmarin/desktop/Data_Bootcamp/python-api-challenge1/WeatherPy/Starter_Code_5/output_data/Fig4.png\")\n",
    "\n",
    "# Show plot\n",
    "plt.show()"
   ]
  },
  {
   "cell_type": "markdown",
   "metadata": {},
   "source": [
    "---\n",
    "\n",
    "## Requirement 2: Compute Linear Regression for Each Relationship\n"
   ]
  },
  {
   "cell_type": "code",
   "execution_count": 73,
   "metadata": {},
   "outputs": [
    {
     "name": "stdout",
     "output_type": "stream",
     "text": [
      "r-value is: -0.7019599940258664\n"
     ]
    },
    {
     "data": {
      "text/plain": [
       "<function matplotlib.pyplot.show(close=None, block=None)>"
      ]
     },
     "execution_count": 73,
     "metadata": {},
     "output_type": "execute_result"
    },
    {
     "data": {
      "image/png": "[encoded data removed]",
      "text/plain": [
       "<Figure size 432x288 with 1 Axes>"
      ]
     },
     "metadata": {
      "needs_background": "light"
     },
     "output_type": "display_data"
    }
   ],
   "source": [
    "# Define a function to create Linear Regression plots\n",
    "    \n",
    "x_values = city_data_df[\"Lat\"]\n",
    "y_values = city_data_df[\"Max Temp\"]\n",
    "\n",
    "(slope, intercept, rvalue, pvalue, stderr) = linregress(x_values, y_values)\n",
    "\n",
    "regress_values = x_values * slope + intercept \n",
    "\n",
    "line_eq = \"y = \" + str(round(slope,2)) + \"x + \" + str(round(intercept,2))\n",
    "\n",
    "plt.scatter(x_values,y_values)\n",
    "\n",
    "plt.plot(x_values,regress_values,\"r-\")\n",
    "\n",
    "plt.annotate(line_eq,(6,10),fontsize=15,color=\"red\")\n",
    "\n",
    "plt.xlabel('Lat')\n",
    "plt.ylabel('Max Temp')\n",
    "print(f\"r-value is: {rvalue}\")\n",
    "plt.show\n",
    "    \n",
    "\n",
    "    \n",
    "    "
   ]
  },
  {
   "cell_type": "code",
   "execution_count": 74,
   "metadata": {},
   "outputs": [
    {
     "name": "stdout",
     "output_type": "stream",
     "text": [
      "r-value is: 0.2520613912610947\n"
     ]
    },
    {
     "data": {
      "text/plain": [
       "<function matplotlib.pyplot.show(close=None, block=None)>"
      ]
     },
     "execution_count": 74,
     "metadata": {},
     "output_type": "execute_result"
    },
    {
     "data": {
      "image/png": "[encoded data removed]",
      "text/plain": [
       "<Figure size 432x288 with 1 Axes>"
      ]
     },
     "metadata": {
      "needs_background": "light"
     },
     "output_type": "display_data"
    }
   ],
   "source": [
    "x_values = city_data_df[\"Lat\"]\n",
    "y_values = city_data_df[\"Humidity\"]\n",
    "\n",
    "(slope, intercept, rvalue, pvalue, stderr) = linregress(x_values, y_values)\n",
    "\n",
    "regress_values = x_values * slope + intercept \n",
    "\n",
    "line_eq = \"y = \" + str(round(slope,2)) + \"x + \" + str(round(intercept,2))\n",
    "\n",
    "plt.scatter(x_values,y_values)\n",
    "\n",
    "plt.plot(x_values,regress_values,\"r-\")\n",
    "\n",
    "plt.annotate(line_eq,(6,10),fontsize=15,color=\"red\")\n",
    "\n",
    "plt.xlabel('Lat')\n",
    "plt.ylabel('Humidity')\n",
    "print(f\"r-value is: {rvalue}\")\n",
    "plt.show"
   ]
  },
  {
   "cell_type": "code",
   "execution_count": 75,
   "metadata": {},
   "outputs": [
    {
     "name": "stdout",
     "output_type": "stream",
     "text": [
      "r-value is: 0.22048240274619266\n"
     ]
    },
    {
     "data": {
      "text/plain": [
       "<function matplotlib.pyplot.show(close=None, block=None)>"
      ]
     },
     "execution_count": 75,
     "metadata": {},
     "output_type": "execute_result"
    },
    {
     "data": {
      "image/png": "[encoded data removed]",
      "text/plain": [
       "<Figure size 432x288 with 1 Axes>"
      ]
     },
     "metadata": {
      "needs_background": "light"
     },
     "output_type": "display_data"
    }
   ],
   "source": [
    "x_values = city_data_df[\"Lat\"]\n",
    "y_values = city_data_df[\"Cloudiness\"]\n",
    "\n",
    "(slope, intercept, rvalue, pvalue, stderr) = linregress(x_values, y_values)\n",
    "\n",
    "regress_values = x_values * slope + intercept \n",
    "\n",
    "line_eq = \"y = \" + str(round(slope,2)) + \"x + \" + str(round(intercept,2))\n",
    "\n",
    "plt.scatter(x_values,y_values)\n",
    "\n",
    "plt.plot(x_values,regress_values,\"r-\")\n",
    "\n",
    "plt.annotate(line_eq,(6,10),fontsize=15,color=\"red\")\n",
    "\n",
    "plt.xlabel('Lat')\n",
    "plt.ylabel('Cloudiness')\n",
    "print(f\"r-value is: {rvalue}\")\n",
    "plt.show"
   ]
  },
  {
   "cell_type": "code",
   "execution_count": 76,
   "metadata": {},
   "outputs": [
    {
     "name": "stdout",
     "output_type": "stream",
     "text": [
      "r-value is: -0.09778178086704307\n"
     ]
    },
    {
     "data": {
      "text/plain": [
       "<function matplotlib.pyplot.show(close=None, block=None)>"
      ]
     },
     "execution_count": 76,
     "metadata": {},
     "output_type": "execute_result"
    },
    {
     "data": {
      "image/png": "[encoded data removed]",
      "text/plain": [
       "<Figure size 432x288 with 1 Axes>"
      ]
     },
     "metadata": {
      "needs_background": "light"
     },
     "output_type": "display_data"
    }
   ],
   "source": [
    "x_values = city_data_df[\"Lat\"]\n",
    "y_values = city_data_df[\"Wind Speed\"]\n",
    "\n",
    "(slope, intercept, rvalue, pvalue, stderr) = linregress(x_values, y_values)\n",
    "\n",
    "regress_values = x_values * slope + intercept \n",
    "\n",
    "line_eq = \"y = \" + str(round(slope,2)) + \"x + \" + str(round(intercept,2))\n",
    "\n",
    "plt.scatter(x_values,y_values)\n",
    "\n",
    "plt.plot(x_values,regress_values,\"r-\")\n",
    "\n",
    "plt.annotate(line_eq,(6,10),fontsize=15,color=\"red\")\n",
    "\n",
    "plt.xlabel('Lat')\n",
    "plt.ylabel('Wind Speed')\n",
    "print(f\"r-value is: {rvalue}\")\n",
    "plt.show"
   ]
  },
  {
   "cell_type": "code",
   "execution_count": 77,
   "metadata": {},
   "outputs": [
    {
     "data": {
      "text/html": [
       "<div>\n",
       "<style scoped>\n",
       "    .dataframe tbody tr th:only-of-type {\n",
       "        vertical-align: middle;\n",
       "    }\n",
       "\n",
       "    .dataframe tbody tr th {\n",
       "        vertical-align: top;\n",
       "    }\n",
       "\n",
       "    .dataframe thead th {\n",
       "        text-align: right;\n",
       "    }\n",
       "</style>\n",
       "<table border=\"1\" class=\"dataframe\">\n",
       "  <thead>\n",
       "    <tr style=\"text-align: right;\">\n",
       "      <th></th>\n",
       "      <th>City</th>\n",
       "      <th>Lat</th>\n",
       "      <th>Lng</th>\n",
       "      <th>Max Temp</th>\n",
       "      <th>Humidity</th>\n",
       "      <th>Cloudiness</th>\n",
       "      <th>Wind Speed</th>\n",
       "      <th>Country</th>\n",
       "      <th>Date</th>\n",
       "    </tr>\n",
       "    <tr>\n",
       "      <th>City_ID</th>\n",
       "      <th></th>\n",
       "      <th></th>\n",
       "      <th></th>\n",
       "      <th></th>\n",
       "      <th></th>\n",
       "      <th></th>\n",
       "      <th></th>\n",
       "      <th></th>\n",
       "      <th></th>\n",
       "    </tr>\n",
       "  </thead>\n",
       "  <tbody>\n",
       "    <tr>\n",
       "      <th>1</th>\n",
       "      <td>san patricio</td>\n",
       "      <td>28.0170</td>\n",
       "      <td>-97.5169</td>\n",
       "      <td>62.47</td>\n",
       "      <td>54</td>\n",
       "      <td>42</td>\n",
       "      <td>16.71</td>\n",
       "      <td>US</td>\n",
       "      <td>1669480309</td>\n",
       "    </tr>\n",
       "    <tr>\n",
       "      <th>2</th>\n",
       "      <td>haverfordwest</td>\n",
       "      <td>51.8017</td>\n",
       "      <td>-4.9691</td>\n",
       "      <td>54.05</td>\n",
       "      <td>95</td>\n",
       "      <td>100</td>\n",
       "      <td>8.99</td>\n",
       "      <td>GB</td>\n",
       "      <td>1669480309</td>\n",
       "    </tr>\n",
       "    <tr>\n",
       "      <th>6</th>\n",
       "      <td>zhigansk</td>\n",
       "      <td>66.7697</td>\n",
       "      <td>123.3711</td>\n",
       "      <td>-35.91</td>\n",
       "      <td>97</td>\n",
       "      <td>96</td>\n",
       "      <td>8.05</td>\n",
       "      <td>RU</td>\n",
       "      <td>1669480311</td>\n",
       "    </tr>\n",
       "    <tr>\n",
       "      <th>7</th>\n",
       "      <td>cherskiy</td>\n",
       "      <td>68.7500</td>\n",
       "      <td>161.3000</td>\n",
       "      <td>-18.35</td>\n",
       "      <td>99</td>\n",
       "      <td>99</td>\n",
       "      <td>3.96</td>\n",
       "      <td>RU</td>\n",
       "      <td>1669480312</td>\n",
       "    </tr>\n",
       "    <tr>\n",
       "      <th>8</th>\n",
       "      <td>kungurtug</td>\n",
       "      <td>50.5994</td>\n",
       "      <td>97.5228</td>\n",
       "      <td>-2.25</td>\n",
       "      <td>90</td>\n",
       "      <td>100</td>\n",
       "      <td>5.21</td>\n",
       "      <td>RU</td>\n",
       "      <td>1669480312</td>\n",
       "    </tr>\n",
       "  </tbody>\n",
       "</table>\n",
       "</div>"
      ],
      "text/plain": [
       "                  City      Lat       Lng  Max Temp  Humidity  Cloudiness  \\\n",
       "City_ID                                                                     \n",
       "1         san patricio  28.0170  -97.5169     62.47        54          42   \n",
       "2        haverfordwest  51.8017   -4.9691     54.05        95         100   \n",
       "6             zhigansk  66.7697  123.3711    -35.91        97          96   \n",
       "7             cherskiy  68.7500  161.3000    -18.35        99          99   \n",
       "8            kungurtug  50.5994   97.5228     -2.25        90         100   \n",
       "\n",
       "         Wind Speed Country        Date  \n",
       "City_ID                                  \n",
       "1             16.71      US  1669480309  \n",
       "2              8.99      GB  1669480309  \n",
       "6              8.05      RU  1669480311  \n",
       "7              3.96      RU  1669480312  \n",
       "8              5.21      RU  1669480312  "
      ]
     },
     "execution_count": 77,
     "metadata": {},
     "output_type": "execute_result"
    }
   ],
   "source": [
    "# Create a DataFrame with the Northern Hemisphere data (Latitude >= 0)\n",
    "northern_hemisphere_df= city_data_df[city_data_df['Lat']>=0]\n",
    "\n",
    "# Display sample data\n",
    "northern_hemisphere_df.head()"
   ]
  },
  {
   "cell_type": "code",
   "execution_count": 78,
   "metadata": {},
   "outputs": [
    {
     "data": {
      "text/html": [
       "<div>\n",
       "<style scoped>\n",
       "    .dataframe tbody tr th:only-of-type {\n",
       "        vertical-align: middle;\n",
       "    }\n",
       "\n",
       "    .dataframe tbody tr th {\n",
       "        vertical-align: top;\n",
       "    }\n",
       "\n",
       "    .dataframe thead th {\n",
       "        text-align: right;\n",
       "    }\n",
       "</style>\n",
       "<table border=\"1\" class=\"dataframe\">\n",
       "  <thead>\n",
       "    <tr style=\"text-align: right;\">\n",
       "      <th></th>\n",
       "      <th>City</th>\n",
       "      <th>Lat</th>\n",
       "      <th>Lng</th>\n",
       "      <th>Max Temp</th>\n",
       "      <th>Humidity</th>\n",
       "      <th>Cloudiness</th>\n",
       "      <th>Wind Speed</th>\n",
       "      <th>Country</th>\n",
       "      <th>Date</th>\n",
       "    </tr>\n",
       "    <tr>\n",
       "      <th>City_ID</th>\n",
       "      <th></th>\n",
       "      <th></th>\n",
       "      <th></th>\n",
       "      <th></th>\n",
       "      <th></th>\n",
       "      <th></th>\n",
       "      <th></th>\n",
       "      <th></th>\n",
       "      <th></th>\n",
       "    </tr>\n",
       "  </thead>\n",
       "  <tbody>\n",
       "    <tr>\n",
       "      <th>0</th>\n",
       "      <td>new norfolk</td>\n",
       "      <td>-42.7826</td>\n",
       "      <td>147.0587</td>\n",
       "      <td>56.91</td>\n",
       "      <td>68</td>\n",
       "      <td>98</td>\n",
       "      <td>5.99</td>\n",
       "      <td>AU</td>\n",
       "      <td>1669480309</td>\n",
       "    </tr>\n",
       "    <tr>\n",
       "      <th>3</th>\n",
       "      <td>punta arenas</td>\n",
       "      <td>-53.1500</td>\n",
       "      <td>-70.9167</td>\n",
       "      <td>53.62</td>\n",
       "      <td>54</td>\n",
       "      <td>75</td>\n",
       "      <td>24.16</td>\n",
       "      <td>CL</td>\n",
       "      <td>1669480310</td>\n",
       "    </tr>\n",
       "    <tr>\n",
       "      <th>4</th>\n",
       "      <td>busselton</td>\n",
       "      <td>-33.6500</td>\n",
       "      <td>115.3333</td>\n",
       "      <td>51.69</td>\n",
       "      <td>83</td>\n",
       "      <td>2</td>\n",
       "      <td>11.05</td>\n",
       "      <td>AU</td>\n",
       "      <td>1669480310</td>\n",
       "    </tr>\n",
       "    <tr>\n",
       "      <th>5</th>\n",
       "      <td>warmbad</td>\n",
       "      <td>-28.4500</td>\n",
       "      <td>18.7333</td>\n",
       "      <td>83.61</td>\n",
       "      <td>7</td>\n",
       "      <td>0</td>\n",
       "      <td>9.73</td>\n",
       "      <td>NaN</td>\n",
       "      <td>1669480311</td>\n",
       "    </tr>\n",
       "    <tr>\n",
       "      <th>9</th>\n",
       "      <td>hermanus</td>\n",
       "      <td>-34.4187</td>\n",
       "      <td>19.2345</td>\n",
       "      <td>66.79</td>\n",
       "      <td>61</td>\n",
       "      <td>15</td>\n",
       "      <td>17.94</td>\n",
       "      <td>ZA</td>\n",
       "      <td>1669480312</td>\n",
       "    </tr>\n",
       "  </tbody>\n",
       "</table>\n",
       "</div>"
      ],
      "text/plain": [
       "                 City      Lat       Lng  Max Temp  Humidity  Cloudiness  \\\n",
       "City_ID                                                                    \n",
       "0         new norfolk -42.7826  147.0587     56.91        68          98   \n",
       "3        punta arenas -53.1500  -70.9167     53.62        54          75   \n",
       "4           busselton -33.6500  115.3333     51.69        83           2   \n",
       "5             warmbad -28.4500   18.7333     83.61         7           0   \n",
       "9            hermanus -34.4187   19.2345     66.79        61          15   \n",
       "\n",
       "         Wind Speed Country        Date  \n",
       "City_ID                                  \n",
       "0              5.99      AU  1669480309  \n",
       "3             24.16      CL  1669480310  \n",
       "4             11.05      AU  1669480310  \n",
       "5              9.73     NaN  1669480311  \n",
       "9             17.94      ZA  1669480312  "
      ]
     },
     "execution_count": 78,
     "metadata": {},
     "output_type": "execute_result"
    }
   ],
   "source": [
    "# Create a DataFrame with the Southern Hemisphere data (Latitude < 0)\n",
    "southern_hemisphere_df= city_data_df[city_data_df['Lat']<0]\n",
    "\n",
    "# Display sample data\n",
    "southern_hemisphere_df.head()"
   ]
  },
  {
   "cell_type": "markdown",
   "metadata": {},
   "source": [
    "###  Temperature vs. Latitude Linear Regression Plot"
   ]
  },
  {
   "cell_type": "code",
   "execution_count": 79,
   "metadata": {},
   "outputs": [
    {
     "name": "stdout",
     "output_type": "stream",
     "text": [
      "r-value is: -0.8583996563878654\n"
     ]
    },
    {
     "data": {
      "text/plain": [
       "<function matplotlib.pyplot.show(close=None, block=None)>"
      ]
     },
     "execution_count": 79,
     "metadata": {},
     "output_type": "execute_result"
    },
    {
     "data": {
      "image/png": "[encoded data removed]",
      "text/plain": [
       "<Figure size 432x288 with 1 Axes>"
      ]
     },
     "metadata": {
      "needs_background": "light"
     },
     "output_type": "display_data"
    }
   ],
   "source": [
    "# Linear regression on Northern Hemisphere\n",
    "x_values = northern_hemisphere_df[\"Lat\"]\n",
    "y_values = northern_hemisphere_df[\"Max Temp\"]\n",
    "\n",
    "(slope, intercept, rvalue, pvalue, stderr) = linregress(x_values, y_values)\n",
    "\n",
    "regress_values = x_values * slope + intercept \n",
    "\n",
    "line_eq = \"y = \" + str(round(slope,2)) + \"x + \" + str(round(intercept,2))\n",
    "\n",
    "plt.scatter(x_values,y_values)\n",
    "\n",
    "plt.plot(x_values,regress_values,\"r-\")\n",
    "\n",
    "plt.annotate(line_eq,(6,10),fontsize=15,color=\"red\")\n",
    "\n",
    "plt.xlabel('Lat')\n",
    "plt.ylabel('Max Temp')\n",
    "print(f\"r-value is: {rvalue}\")\n",
    "plt.show"
   ]
  },
  {
   "cell_type": "code",
   "execution_count": 81,
   "metadata": {},
   "outputs": [
    {
     "name": "stdout",
     "output_type": "stream",
     "text": [
      "r-value is: 0.5360690635578383\n"
     ]
    },
    {
     "data": {
      "text/plain": [
       "<function matplotlib.pyplot.show(close=None, block=None)>"
      ]
     },
     "execution_count": 81,
     "metadata": {},
     "output_type": "execute_result"
    },
    {
     "data": {
      "image/png": "[encoded data removed]",
      "text/plain": [
       "<Figure size 432x288 with 1 Axes>"
      ]
     },
     "metadata": {
      "needs_background": "light"
     },
     "output_type": "display_data"
    }
   ],
   "source": [
    "# Linear regression on Southern Hemisphere\n",
    "x_values = southern_hemisphere_df[\"Lat\"]\n",
    "y_values = southern_hemisphere_df[\"Max Temp\"]\n",
    "\n",
    "(slope, intercept, rvalue, pvalue, stderr) = linregress(x_values, y_values)\n",
    "\n",
    "regress_values = x_values * slope + intercept \n",
    "\n",
    "line_eq = \"y = \" + str(round(slope,2)) + \"x + \" + str(round(intercept,2))\n",
    "\n",
    "plt.scatter(x_values,y_values)\n",
    "\n",
    "plt.plot(x_values,regress_values,\"r-\")\n",
    "\n",
    "plt.annotate(line_eq,(6,10),fontsize=15,color=\"red\")\n",
    "\n",
    "plt.xlabel('Lat')\n",
    "plt.ylabel('Max Temp')\n",
    "print(f\"r-value is: {rvalue}\")\n",
    "plt.show"
   ]
  },
  {
   "cell_type": "markdown",
   "metadata": {},
   "source": [
    "**Discussion about the linear relationship:** YOUR RESPONSE HERE"
   ]
  },
  {
   "cell_type": "markdown",
   "metadata": {},
   "source": [
    "# In regards to temperature and latitiude, we can see that the northern hemisphere had a stronger correlation between temperature and latitude compared to the sourthern hemisphere after analyzing the rvalue of both graphs. The closer the r-value is to 1 the stronger the correlation."
   ]
  },
  {
   "cell_type": "markdown",
   "metadata": {},
   "source": [
    "### Humidity vs. Latitude Linear Regression Plot"
   ]
  },
  {
   "cell_type": "code",
   "execution_count": 82,
   "metadata": {},
   "outputs": [
    {
     "name": "stdout",
     "output_type": "stream",
     "text": [
      "r-value is: 0.4003854689808525\n"
     ]
    },
    {
     "data": {
      "text/plain": [
       "<function matplotlib.pyplot.show(close=None, block=None)>"
      ]
     },
     "execution_count": 82,
     "metadata": {},
     "output_type": "execute_result"
    },
    {
     "data": {
      "image/png": "[encoded data removed]",
      "text/plain": [
       "<Figure size 432x288 with 1 Axes>"
      ]
     },
     "metadata": {
      "needs_background": "light"
     },
     "output_type": "display_data"
    }
   ],
   "source": [
    "# Northern Hemisphere\n",
    "x_values = northern_hemisphere_df[\"Lat\"]\n",
    "y_values = northern_hemisphere_df[\"Humidity\"]\n",
    "\n",
    "(slope, intercept, rvalue, pvalue, stderr) = linregress(x_values, y_values)\n",
    "\n",
    "regress_values = x_values * slope + intercept \n",
    "\n",
    "line_eq = \"y = \" + str(round(slope,2)) + \"x + \" + str(round(intercept,2))\n",
    "\n",
    "plt.scatter(x_values,y_values)\n",
    "\n",
    "plt.plot(x_values,regress_values,\"r-\")\n",
    "\n",
    "plt.annotate(line_eq,(6,10),fontsize=15,color=\"red\")\n",
    "\n",
    "plt.xlabel('Lat')\n",
    "plt.ylabel('Humidity')\n",
    "print(f\"r-value is: {rvalue}\")\n",
    "plt.show"
   ]
  },
  {
   "cell_type": "code",
   "execution_count": 83,
   "metadata": {},
   "outputs": [
    {
     "name": "stdout",
     "output_type": "stream",
     "text": [
      "r-value is: 0.13027885127490882\n"
     ]
    },
    {
     "data": {
      "text/plain": [
       "<function matplotlib.pyplot.show(close=None, block=None)>"
      ]
     },
     "execution_count": 83,
     "metadata": {},
     "output_type": "execute_result"
    },
    {
     "data": {
      "image/png": "[encoded data removed]",
      "text/plain": [
       "<Figure size 432x288 with 1 Axes>"
      ]
     },
     "metadata": {
      "needs_background": "light"
     },
     "output_type": "display_data"
    }
   ],
   "source": [
    "# Southern Hemisphere\n",
    "x_values = southern_hemisphere_df[\"Lat\"]\n",
    "y_values = southern_hemisphere_df[\"Humidity\"]\n",
    "\n",
    "(slope, intercept, rvalue, pvalue, stderr) = linregress(x_values, y_values)\n",
    "\n",
    "regress_values = x_values * slope + intercept \n",
    "\n",
    "line_eq = \"y = \" + str(round(slope,2)) + \"x + \" + str(round(intercept,2))\n",
    "\n",
    "plt.scatter(x_values,y_values)\n",
    "\n",
    "plt.plot(x_values,regress_values,\"r-\")\n",
    "\n",
    "plt.annotate(line_eq,(6,10),fontsize=15,color=\"red\")\n",
    "\n",
    "plt.xlabel('Lat')\n",
    "plt.ylabel('Humidity')\n",
    "print(f\"r-value is: {rvalue}\")\n",
    "plt.show"
   ]
  },
  {
   "cell_type": "markdown",
   "metadata": {},
   "source": [
    "**Discussion about the linear relationship:** YOUR RESPONSE HERE"
   ]
  },
  {
   "cell_type": "markdown",
   "metadata": {},
   "source": [
    "# We can see that there is a slightly higher correlation for latitude and humidity for the northern hemisphere compared to the southern hemisphere since the r-value for northern was .4 comapred to southern which was .1.\n",
    "\n",
    "\n",
    "\n",
    "\n"
   ]
  },
  {
   "cell_type": "markdown",
   "metadata": {},
   "source": [
    "### Cloudiness vs. Latitude Linear Regression Plot"
   ]
  },
  {
   "cell_type": "code",
   "execution_count": 84,
   "metadata": {},
   "outputs": [
    {
     "name": "stdout",
     "output_type": "stream",
     "text": [
      "r-value is: 0.2927854446496718\n"
     ]
    },
    {
     "data": {
      "text/plain": [
       "<function matplotlib.pyplot.show(close=None, block=None)>"
      ]
     },
     "execution_count": 84,
     "metadata": {},
     "output_type": "execute_result"
    },
    {
     "data": {
      "image/png": "[encoded data removed]",
      "text/plain": [
       "<Figure size 432x288 with 1 Axes>"
      ]
     },
     "metadata": {
      "needs_background": "light"
     },
     "output_type": "display_data"
    }
   ],
   "source": [
    "# Northern Hemisphere\n"
   ]
  },
  {
   "cell_type": "code",
   "execution_count": 85,
   "metadata": {},
   "outputs": [
    {
     "name": "stdout",
     "output_type": "stream",
     "text": [
      "r-value is: 0.21926651872634942\n"
     ]
    },
    {
     "data": {
      "text/plain": [
       "<function matplotlib.pyplot.show(close=None, block=None)>"
      ]
     },
     "execution_count": 85,
     "metadata": {},
     "output_type": "execute_result"
    },
    {
     "data": {
      "image/png": "[encoded data removed]",
      "text/plain": [
       "<Figure size 432x288 with 1 Axes>"
      ]
     },
     "metadata": {
      "needs_background": "light"
     },
     "output_type": "display_data"
    }
   ],
   "source": [
    "# Southern Hemisphere\n",
    "x_values = southern_hemisphere_df[\"Lat\"]\n",
    "y_values = southern_hemisphere_df[\"Cloudiness\"]\n",
    "\n",
    "(slope, intercept, rvalue, pvalue, stderr) = linregress(x_values, y_values)\n",
    "\n",
    "regress_values = x_values * slope + intercept \n",
    "\n",
    "line_eq = \"y = \" + str(round(slope,2)) + \"x + \" + str(round(intercept,2))\n",
    "\n",
    "plt.scatter(x_values,y_values)\n",
    "\n",
    "plt.plot(x_values,regress_values,\"r-\")\n",
    "\n",
    "plt.annotate(line_eq,(6,10),fontsize=15,color=\"red\")\n",
    "\n",
    "plt.xlabel('Lat')\n",
    "plt.ylabel('Cloudiness')\n",
    "print(f\"r-value is: {rvalue}\")\n",
    "plt.show"
   ]
  },
  {
   "cell_type": "markdown",
   "metadata": {},
   "source": [
    "**Discussion about the linear relationship:** YOUR RESPONSE HERE"
   ]
  },
  {
   "cell_type": "markdown",
   "metadata": {},
   "source": [
    "# There is a weak correlation between latitude and cloudiness in both northern or southern hemishperes since the r-values were .2 for both. But Noerhtern hemisphere had a slightly stronger correlation. "
   ]
  },
  {
   "cell_type": "markdown",
   "metadata": {},
   "source": [
    "### Wind Speed vs. Latitude Linear Regression Plot"
   ]
  },
  {
   "cell_type": "code",
   "execution_count": 86,
   "metadata": {},
   "outputs": [
    {
     "name": "stdout",
     "output_type": "stream",
     "text": [
      "r-value is: 0.08697106997473585\n"
     ]
    },
    {
     "data": {
      "text/plain": [
       "<function matplotlib.pyplot.show(close=None, block=None)>"
      ]
     },
     "execution_count": 86,
     "metadata": {},
     "output_type": "execute_result"
    },
    {
     "data": {
      "image/png": "[encoded data removed]",
      "text/plain": [
       "<Figure size 432x288 with 1 Axes>"
      ]
     },
     "metadata": {
      "needs_background": "light"
     },
     "output_type": "display_data"
    }
   ],
   "source": [
    "# Northern Hemisphere\n",
    "x_values = northern_hemisphere_df[\"Lat\"]\n",
    "y_values = northern_hemisphere_df[\"Wind Speed\"]\n",
    "\n",
    "(slope, intercept, rvalue, pvalue, stderr) = linregress(x_values, y_values)\n",
    "\n",
    "regress_values = x_values * slope + intercept \n",
    "\n",
    "line_eq = \"y = \" + str(round(slope,2)) + \"x + \" + str(round(intercept,2))\n",
    "\n",
    "plt.scatter(x_values,y_values)\n",
    "\n",
    "plt.plot(x_values,regress_values,\"r-\")\n",
    "\n",
    "plt.annotate(line_eq,(6,10),fontsize=15,color=\"red\")\n",
    "\n",
    "plt.xlabel('Lat')\n",
    "plt.ylabel('Wind Speed')\n",
    "print(f\"r-value is: {rvalue}\")\n",
    "plt.show"
   ]
  },
  {
   "cell_type": "code",
   "execution_count": 87,
   "metadata": {},
   "outputs": [
    {
     "name": "stdout",
     "output_type": "stream",
     "text": [
      "r-value is: -0.30688294030753904\n"
     ]
    },
    {
     "data": {
      "text/plain": [
       "<function matplotlib.pyplot.show(close=None, block=None)>"
      ]
     },
     "execution_count": 87,
     "metadata": {},
     "output_type": "execute_result"
    },
    {
     "data": {
      "image/png": "[encoded data removed]",
      "text/plain": [
       "<Figure size 432x288 with 1 Axes>"
      ]
     },
     "metadata": {
      "needs_background": "light"
     },
     "output_type": "display_data"
    }
   ],
   "source": [
    "# Southern Hemisphere\n",
    "x_values = southern_hemisphere_df[\"Lat\"]\n",
    "y_values = southern_hemisphere_df[\"Wind Speed\"]\n",
    "\n",
    "(slope, intercept, rvalue, pvalue, stderr) = linregress(x_values, y_values)\n",
    "\n",
    "regress_values = x_values * slope + intercept \n",
    "\n",
    "line_eq = \"y = \" + str(round(slope,2)) + \"x + \" + str(round(intercept,2))\n",
    "\n",
    "plt.scatter(x_values,y_values)\n",
    "\n",
    "plt.plot(x_values,regress_values,\"r-\")\n",
    "\n",
    "plt.annotate(line_eq,(6,10),fontsize=15,color=\"red\")\n",
    "\n",
    "plt.xlabel('Lat')\n",
    "plt.ylabel('Wind Speed')\n",
    "print(f\"r-value is: {rvalue}\")\n",
    "plt.show"
   ]
  },
  {
   "cell_type": "markdown",
   "metadata": {},
   "source": [
    "**Discussion about the linear relationship:** YOUR RESPONSE HERE"
   ]
  },
  {
   "cell_type": "markdown",
   "metadata": {},
   "source": [
    "# The southern hemisphere has a stronger correlation between wind speed and latitude since it had an r-value of .3 compared to the rvalue of .08 we saw for northern hemisphere. "
   ]
  }
 ],
 "metadata": {
  "anaconda-cloud": {},
  "kernel_info": {
   "name": "python3"
  },
  "kernelspec": {
   "display_name": "Python 3 (ipykernel)",
   "language": "python",
   "name": "python3"
  },
  "language_info": {
   "codemirror_mode": {
    "name": "ipython",
    "version": 3
   },
   "file_extension": ".py",
   "mimetype": "text/x-python",
   "name": "python",
   "nbconvert_exporter": "python",
   "pygments_lexer": "ipython3",
   "version": "3.9.12"
  },
  "latex_envs": {
   "LaTeX_envs_menu_present": true,
   "autoclose": false,
   "autocomplete": true,
   "bibliofile": "biblio.bib",
   "cite_by": "apalike",
   "current_citInitial": 1,
   "eqLabelWithNumbers": true,
   "eqNumInitial": 1,
   "hotkeys": {
    "equation": "Ctrl-E",
    "itemize": "Ctrl-I"
   },
   "labels_anchors": false,
   "latex_user_defs": false,
   "report_style_numbering": false,
   "user_envs_cfg": false
  },
  "nteract": {
   "version": "0.12.3"
  }
 },
 "nbformat": 4,
 "nbformat_minor": 4
}
