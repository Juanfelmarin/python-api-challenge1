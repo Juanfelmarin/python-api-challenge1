{
 "cells": [
  {
   "cell_type": "markdown",
   "metadata": {},
   "source": [
    "# WeatherPy\n",
    "\n",
    "---\n",
    "\n",
    "## Starter Code to Generate Random Geographic Coordinates and a List of Cities"
   ]
  },
  {
   "cell_type": "markdown",
   "metadata": {},
   "source": [
    "# In regards to the question \"What is the weather like as we approach the equator?\" there are multiple answers thanks to our analyses.For Temperature, we can see that the northern hemisphere had a stronger correlation between temperature and latitude compared to the sourthern hemisphere after analyzing the rvalue between temp and latitude of both hemispheres. But both hemispheres did present a correlation. Therefore, the closer you get to the equator the warmer you will be , especially when only looking at the northern hemisphere. Furthermore, There was also a higher correlation between humidity and latitiude for the northern hemisphere compared to the southern hemisphere. Thus, as you get closer to the equator (in the northern hemisphere), the more humidity you will experience, but the correlation was not as strong here compared to temperature. On the other hand, we also saw that latitude is correlated to wind speed, especially in the southern hemisphere. So when you get closer to the equator (from the southern hemisphere), the lower the wind speed.The same relationship was evident for cloudiness since cloudiness increased the closer we got to the equator, when looking from the southern hemisphere. "
   ]
  },
  {
   "cell_type": "code",
   "execution_count": 2,
   "metadata": {
    "scrolled": true
   },
   "outputs": [
    {
     "data": {
      "text/plain": [
       "'e52551c4f72edabae5d605fceb3d1730'"
      ]
     },
     "execution_count": 2,
     "metadata": {},
     "output_type": "execute_result"
    }
   ],
   "source": [
    "# Dependencies and Setup\n",
    "import matplotlib.pyplot as plt\n",
    "import pandas as pd\n",
    "import numpy as np\n",
    "import requests\n",
    "import time\n",
    "from scipy.stats import linregress\n",
    "\n",
    "# Impor the OpenWeatherMap API key\n",
    "from api_keys import weather_api_key\n",
    "\n",
    "# Import citipy to determine the cities based on latitude and longitude\n",
    "from citipy import citipy\n",
    "\n",
    "weather_api_key\n",
    "\n"
   ]
  },
  {
   "cell_type": "markdown",
   "metadata": {},
   "source": [
    "### Generate the Cities List by Using the `citipy` Library"
   ]
  },
  {
   "cell_type": "code",
   "execution_count": 5,
   "metadata": {},
   "outputs": [
    {
     "name": "stdout",
     "output_type": "stream",
     "text": [
      "Number of cities in the list: 603\n"
     ]
    }
   ],
   "source": [
    "# Empty list for holding the latitude and longitude combinations\n",
    "lat_lngs = []\n",
    "\n",
    "# Empty list for holding the cities names\n",
    "cities = []\n",
    "\n",
    "# Range of latitudes and longitudes\n",
    "lat_range = (-90, 90)\n",
    "lng_range = (-180, 180)\n",
    "\n",
    "# Create a set of random lat and lng combinations\n",
    "lats = np.random.uniform(lat_range[0], lat_range[1], size=1500)\n",
    "lngs = np.random.uniform(lng_range[0], lng_range[1], size=1500)\n",
    "lat_lngs = zip(lats, lngs)\n",
    "\n",
    "# Identify nearest city for each lat, lng combination\n",
    "for lat_lng in lat_lngs:\n",
    "    city = citipy.nearest_city(lat_lng[0], lat_lng[1]).city_name\n",
    "    \n",
    "    # If the city is unique, then add it to a our cities list\n",
    "    if city not in cities:\n",
    "        cities.append(city)\n",
    "\n",
    "# Print the city count to confirm sufficient count\n",
    "print(f\"Number of cities in the list: {len(cities)}\")"
   ]
  },
  {
   "cell_type": "markdown",
   "metadata": {},
   "source": [
    "---"
   ]
  },
  {
   "cell_type": "markdown",
   "metadata": {},
   "source": [
    "## Requirement 1: Create Plots to Showcase the Relationship Between Weather Variables and Latitude\n",
    "\n",
    "### Use the OpenWeatherMap API to retrieve weather data from the cities list generated in the started code"
   ]
  },
  {
   "cell_type": "code",
   "execution_count": 6,
   "metadata": {},
   "outputs": [
    {
     "name": "stdout",
     "output_type": "stream",
     "text": [
      "Beginning Data Retrieval     \n",
      "-----------------------------\n",
      "Processing Record 1 of Set 1 | kruisfontein\n",
      "Processing Record 2 of Set 1 | castro\n",
      "Processing Record 3 of Set 1 | mareeba\n",
      "Processing Record 4 of Set 1 | tautira\n",
      "Processing Record 5 of Set 1 | dikson\n",
      "Processing Record 6 of Set 1 | vardo\n",
      "Processing Record 7 of Set 1 | grand centre\n",
      "City not found. Skipping...\n",
      "Processing Record 8 of Set 1 | hermanus\n",
      "Processing Record 9 of Set 1 | pangai\n",
      "Processing Record 10 of Set 1 | chuy\n",
      "Processing Record 11 of Set 1 | susehri\n",
      "Processing Record 12 of Set 1 | wonthaggi\n",
      "Processing Record 13 of Set 1 | mattru\n",
      "Processing Record 14 of Set 1 | rikitea\n",
      "Processing Record 15 of Set 1 | wukari\n",
      "Processing Record 16 of Set 1 | manacapuru\n",
      "Processing Record 17 of Set 1 | kurchum\n",
      "Processing Record 18 of Set 1 | ushuaia\n",
      "Processing Record 19 of Set 1 | mataura\n",
      "Processing Record 20 of Set 1 | ancud\n",
      "Processing Record 21 of Set 1 | new norfolk\n",
      "Processing Record 22 of Set 1 | waddan\n",
      "Processing Record 23 of Set 1 | saint-augustin\n",
      "Processing Record 24 of Set 1 | hofn\n",
      "Processing Record 25 of Set 1 | jamestown\n",
      "Processing Record 26 of Set 1 | lucea\n",
      "Processing Record 27 of Set 1 | ambilobe\n",
      "Processing Record 28 of Set 1 | saleaula\n",
      "City not found. Skipping...\n",
      "Processing Record 29 of Set 1 | hearst\n",
      "Processing Record 30 of Set 1 | georgetown\n",
      "Processing Record 31 of Set 1 | turka\n",
      "Processing Record 32 of Set 1 | avarua\n",
      "Processing Record 33 of Set 1 | manta\n",
      "Processing Record 34 of Set 1 | bursol\n",
      "City not found. Skipping...\n",
      "Processing Record 35 of Set 1 | punta arenas\n",
      "Processing Record 36 of Set 1 | vaini\n",
      "Processing Record 37 of Set 1 | puerto ayora\n",
      "Processing Record 38 of Set 1 | byron bay\n",
      "Processing Record 39 of Set 1 | novopokrovka\n",
      "Processing Record 40 of Set 1 | hobart\n",
      "Processing Record 41 of Set 1 | taolanaro\n",
      "City not found. Skipping...\n",
      "Processing Record 42 of Set 1 | kodiak\n",
      "Processing Record 43 of Set 1 | shitanjing\n",
      "Processing Record 44 of Set 1 | sungai petani\n",
      "Processing Record 45 of Set 1 | cape town\n",
      "Processing Record 46 of Set 1 | cherskiy\n",
      "Processing Record 47 of Set 1 | bethel\n",
      "Processing Record 48 of Set 1 | bulgan\n",
      "Processing Record 49 of Set 1 | atuona\n",
      "Processing Record 50 of Set 1 | bobcaygeon\n",
      "Processing Record 0 of Set 2 | vaitupu\n",
      "City not found. Skipping...\n",
      "Processing Record 1 of Set 2 | arraial do cabo\n",
      "Processing Record 2 of Set 2 | illoqqortoormiut\n",
      "City not found. Skipping...\n",
      "Processing Record 3 of Set 2 | port elizabeth\n",
      "Processing Record 4 of Set 2 | nanortalik\n",
      "Processing Record 5 of Set 2 | fortuna\n",
      "Processing Record 6 of Set 2 | provideniya\n",
      "Processing Record 7 of Set 2 | mayumba\n",
      "Processing Record 8 of Set 2 | shimoda\n",
      "Processing Record 9 of Set 2 | kaitangata\n",
      "Processing Record 10 of Set 2 | palabuhanratu\n",
      "City not found. Skipping...\n",
      "Processing Record 11 of Set 2 | ust-kamchatsk\n",
      "City not found. Skipping...\n",
      "Processing Record 12 of Set 2 | busselton\n",
      "Processing Record 13 of Set 2 | tuatapere\n",
      "Processing Record 14 of Set 2 | tunduru\n",
      "City not found. Skipping...\n",
      "Processing Record 15 of Set 2 | saint-joseph\n",
      "Processing Record 16 of Set 2 | ambodifototra\n",
      "City not found. Skipping...\n",
      "Processing Record 17 of Set 2 | liverpool\n",
      "Processing Record 18 of Set 2 | viligili\n",
      "City not found. Skipping...\n",
      "Processing Record 19 of Set 2 | luderitz\n",
      "Processing Record 20 of Set 2 | otradnoye\n",
      "Processing Record 21 of Set 2 | hovd\n",
      "Processing Record 22 of Set 2 | komsomolskiy\n",
      "Processing Record 23 of Set 2 | nemuro\n",
      "Processing Record 24 of Set 2 | airai\n",
      "Processing Record 25 of Set 2 | barentsburg\n",
      "City not found. Skipping...\n",
      "Processing Record 26 of Set 2 | tual\n",
      "Processing Record 27 of Set 2 | lavrentiya\n",
      "Processing Record 28 of Set 2 | tikhvin\n",
      "Processing Record 29 of Set 2 | machilipatnam\n",
      "Processing Record 30 of Set 2 | lebyazhye\n",
      "Processing Record 31 of Set 2 | aden\n",
      "Processing Record 32 of Set 2 | anloga\n",
      "Processing Record 33 of Set 2 | izumo\n",
      "Processing Record 34 of Set 2 | port alfred\n",
      "Processing Record 35 of Set 2 | thompson\n",
      "Processing Record 36 of Set 2 | okhotsk\n",
      "Processing Record 37 of Set 2 | aklavik\n",
      "Processing Record 38 of Set 2 | wairoa\n",
      "Processing Record 39 of Set 2 | roald\n",
      "Processing Record 40 of Set 2 | hasaki\n",
      "Processing Record 41 of Set 2 | victoria\n",
      "Processing Record 42 of Set 2 | kapaa\n",
      "Processing Record 43 of Set 2 | derzhavinsk\n",
      "Processing Record 44 of Set 2 | severo-yeniseyskiy\n",
      "Processing Record 45 of Set 2 | beringovskiy\n",
      "Processing Record 46 of Set 2 | east london\n",
      "Processing Record 47 of Set 2 | lagoa\n",
      "Processing Record 48 of Set 2 | tiksi\n",
      "Processing Record 49 of Set 2 | mar del plata\n",
      "Processing Record 0 of Set 3 | trat\n",
      "Processing Record 1 of Set 3 | dongsheng\n",
      "Processing Record 2 of Set 3 | shelburne\n",
      "Processing Record 3 of Set 3 | gushikawa\n",
      "Processing Record 4 of Set 3 | santa cruz\n",
      "Processing Record 5 of Set 3 | kyren\n",
      "Processing Record 6 of Set 3 | faanui\n",
      "Processing Record 7 of Set 3 | yaan\n",
      "Processing Record 8 of Set 3 | nizhneyansk\n",
      "City not found. Skipping...\n",
      "Processing Record 9 of Set 3 | punta de bombon\n",
      "Processing Record 10 of Set 3 | hays\n",
      "Processing Record 11 of Set 3 | tevaitoa\n",
      "Processing Record 12 of Set 3 | ruteng\n",
      "Processing Record 13 of Set 3 | albany\n",
      "Processing Record 14 of Set 3 | las vegas\n",
      "Processing Record 15 of Set 3 | nanton\n",
      "Processing Record 16 of Set 3 | yulara\n",
      "Processing Record 17 of Set 3 | matara\n",
      "Processing Record 18 of Set 3 | lima\n",
      "Processing Record 19 of Set 3 | saldanha\n",
      "Processing Record 20 of Set 3 | tuktoyaktuk\n",
      "Processing Record 21 of Set 3 | khatanga\n",
      "Processing Record 22 of Set 3 | carnarvon\n",
      "Processing Record 23 of Set 3 | akureyri\n",
      "Processing Record 24 of Set 3 | cidreira\n",
      "Processing Record 25 of Set 3 | pochutla\n",
      "Processing Record 26 of Set 3 | cairns\n",
      "Processing Record 27 of Set 3 | yellowknife\n",
      "Processing Record 28 of Set 3 | sayyan\n",
      "Processing Record 29 of Set 3 | sibu\n",
      "Processing Record 30 of Set 3 | the valley\n",
      "Processing Record 31 of Set 3 | tasiilaq\n",
      "Processing Record 32 of Set 3 | amderma\n",
      "City not found. Skipping...\n",
      "Processing Record 33 of Set 3 | mys shmidta\n",
      "City not found. Skipping...\n",
      "Processing Record 34 of Set 3 | srednekolymsk\n",
      "Processing Record 35 of Set 3 | coquimbo\n",
      "Processing Record 36 of Set 3 | barawe\n",
      "City not found. Skipping...\n",
      "Processing Record 37 of Set 3 | caravelas\n",
      "Processing Record 38 of Set 3 | garango\n",
      "Processing Record 39 of Set 3 | lagunas\n",
      "Processing Record 40 of Set 3 | belyy yar\n",
      "Processing Record 41 of Set 3 | flinders\n",
      "Processing Record 42 of Set 3 | ponta do sol\n",
      "Processing Record 43 of Set 3 | vila velha\n",
      "Processing Record 44 of Set 3 | takoradi\n",
      "Processing Record 45 of Set 3 | san quintin\n",
      "Processing Record 46 of Set 3 | odemira\n",
      "Processing Record 47 of Set 3 | sainte-anne-des-monts\n",
      "Processing Record 48 of Set 3 | butaritari\n",
      "Processing Record 49 of Set 3 | clyde river\n",
      "Processing Record 0 of Set 4 | ahuimanu\n",
      "Processing Record 1 of Set 4 | gornopravdinsk\n",
      "Processing Record 2 of Set 4 | dickinson\n",
      "Processing Record 3 of Set 4 | liku\n",
      "Processing Record 4 of Set 4 | atar\n",
      "Processing Record 5 of Set 4 | buzmeyin\n",
      "Processing Record 6 of Set 4 | tera\n",
      "Processing Record 7 of Set 4 | tura\n",
      "Processing Record 8 of Set 4 | saskylakh\n",
      "Processing Record 9 of Set 4 | geraldton\n",
      "Processing Record 10 of Set 4 | ossora\n",
      "Processing Record 11 of Set 4 | grindavik\n",
      "Processing Record 12 of Set 4 | nikolskoye\n",
      "Processing Record 13 of Set 4 | bac lieu\n",
      "Processing Record 14 of Set 4 | barrow\n",
      "Processing Record 15 of Set 4 | bayeux\n",
      "Processing Record 16 of Set 4 | smirnykh\n",
      "Processing Record 17 of Set 4 | chokurdakh\n",
      "Processing Record 18 of Set 4 | morgan city\n",
      "Processing Record 19 of Set 4 | pisco\n",
      "Processing Record 20 of Set 4 | fort beaufort\n",
      "Processing Record 21 of Set 4 | bargal\n",
      "City not found. Skipping...\n",
      "Processing Record 22 of Set 4 | broome\n",
      "Processing Record 23 of Set 4 | tambura\n",
      "Processing Record 24 of Set 4 | torbay\n",
      "Processing Record 25 of Set 4 | constitucion\n",
      "Processing Record 26 of Set 4 | pevek\n",
      "Processing Record 27 of Set 4 | teguise\n",
      "Processing Record 28 of Set 4 | lebu\n",
      "Processing Record 29 of Set 4 | bartica\n",
      "Processing Record 30 of Set 4 | saint-philippe\n",
      "Processing Record 31 of Set 4 | saint-georges\n",
      "Processing Record 32 of Set 4 | alamor\n",
      "Processing Record 33 of Set 4 | longyearbyen\n",
      "Processing Record 34 of Set 4 | kazachinskoye\n",
      "Processing Record 35 of Set 4 | avera\n",
      "Processing Record 36 of Set 4 | springbok\n"
     ]
    },
    {
     "name": "stdout",
     "output_type": "stream",
     "text": [
      "Processing Record 37 of Set 4 | pacific grove\n",
      "Processing Record 38 of Set 4 | bluff\n",
      "Processing Record 39 of Set 4 | sanandaj\n",
      "Processing Record 40 of Set 4 | bambous virieux\n",
      "Processing Record 41 of Set 4 | ola\n",
      "Processing Record 42 of Set 4 | dunedin\n",
      "Processing Record 43 of Set 4 | malanje\n",
      "Processing Record 44 of Set 4 | vao\n",
      "Processing Record 45 of Set 4 | cabo san lucas\n",
      "Processing Record 46 of Set 4 | beira\n",
      "Processing Record 47 of Set 4 | itaituba\n",
      "Processing Record 48 of Set 4 | misratah\n",
      "Processing Record 49 of Set 4 | karaul\n",
      "City not found. Skipping...\n",
      "Processing Record 0 of Set 5 | herat\n",
      "Processing Record 1 of Set 5 | baiyin\n",
      "Processing Record 2 of Set 5 | qaanaaq\n",
      "Processing Record 3 of Set 5 | wuhan\n",
      "Processing Record 4 of Set 5 | krasnovishersk\n",
      "Processing Record 5 of Set 5 | alofi\n",
      "Processing Record 6 of Set 5 | kailua\n",
      "Processing Record 7 of Set 5 | sulphur springs\n",
      "Processing Record 8 of Set 5 | mount gambier\n",
      "Processing Record 9 of Set 5 | hirara\n",
      "Processing Record 10 of Set 5 | haines junction\n",
      "Processing Record 11 of Set 5 | alaca\n",
      "Processing Record 12 of Set 5 | rungata\n",
      "City not found. Skipping...\n",
      "Processing Record 13 of Set 5 | kutum\n",
      "Processing Record 14 of Set 5 | carballo\n",
      "Processing Record 15 of Set 5 | quiruvilca\n",
      "Processing Record 16 of Set 5 | komyshnya\n",
      "Processing Record 17 of Set 5 | panguna\n",
      "Processing Record 18 of Set 5 | ostrovnoy\n",
      "Processing Record 19 of Set 5 | cortez\n",
      "Processing Record 20 of Set 5 | guerrero negro\n",
      "Processing Record 21 of Set 5 | trairi\n",
      "Processing Record 22 of Set 5 | ahipara\n",
      "Processing Record 23 of Set 5 | celendin\n",
      "Processing Record 24 of Set 5 | attawapiskat\n",
      "City not found. Skipping...\n",
      "Processing Record 25 of Set 5 | baruun-urt\n",
      "Processing Record 26 of Set 5 | miyako\n",
      "Processing Record 27 of Set 5 | palmer\n",
      "Processing Record 28 of Set 5 | russell\n",
      "Processing Record 29 of Set 5 | sao filipe\n",
      "Processing Record 30 of Set 5 | yumen\n",
      "Processing Record 31 of Set 5 | trinidad\n",
      "Processing Record 32 of Set 5 | kijang\n",
      "Processing Record 33 of Set 5 | marcona\n",
      "City not found. Skipping...\n",
      "Processing Record 34 of Set 5 | khyriv\n",
      "Processing Record 35 of Set 5 | ixtapa\n",
      "Processing Record 36 of Set 5 | bathsheba\n",
      "Processing Record 37 of Set 5 | sampit\n",
      "Processing Record 38 of Set 5 | cocobeach\n",
      "Processing Record 39 of Set 5 | udimskiy\n",
      "Processing Record 40 of Set 5 | opobo\n",
      "City not found. Skipping...\n",
      "Processing Record 41 of Set 5 | suao\n",
      "City not found. Skipping...\n",
      "Processing Record 42 of Set 5 | dong xoai\n",
      "Processing Record 43 of Set 5 | ayacucho\n",
      "Processing Record 44 of Set 5 | majene\n",
      "Processing Record 45 of Set 5 | saint george\n",
      "Processing Record 46 of Set 5 | aushiger\n",
      "Processing Record 47 of Set 5 | leningradskiy\n",
      "Processing Record 48 of Set 5 | kavieng\n",
      "Processing Record 49 of Set 5 | sitka\n",
      "Processing Record 0 of Set 6 | cabedelo\n",
      "Processing Record 1 of Set 6 | lunenburg\n",
      "Processing Record 2 of Set 6 | williamsport\n",
      "Processing Record 3 of Set 6 | sterling\n",
      "Processing Record 4 of Set 6 | la asuncion\n",
      "Processing Record 5 of Set 6 | norman wells\n",
      "Processing Record 6 of Set 6 | sentyabrskiy\n",
      "City not found. Skipping...\n",
      "Processing Record 7 of Set 6 | xiamen\n",
      "Processing Record 8 of Set 6 | nelson bay\n",
      "Processing Record 9 of Set 6 | bilibino\n",
      "Processing Record 10 of Set 6 | saint anthony\n",
      "Processing Record 11 of Set 6 | diego de almagro\n",
      "Processing Record 12 of Set 6 | vestmanna\n",
      "Processing Record 13 of Set 6 | homer\n",
      "Processing Record 14 of Set 6 | mercedes\n",
      "Processing Record 15 of Set 6 | sami\n",
      "Processing Record 16 of Set 6 | kampot\n",
      "Processing Record 17 of Set 6 | bredasdorp\n",
      "Processing Record 18 of Set 6 | llandrindod wells\n",
      "Processing Record 19 of Set 6 | valdivia\n",
      "Processing Record 20 of Set 6 | vedaranniyam\n",
      "City not found. Skipping...\n",
      "Processing Record 21 of Set 6 | livingstone\n",
      "Processing Record 22 of Set 6 | san andres\n",
      "Processing Record 23 of Set 6 | taoudenni\n",
      "Processing Record 24 of Set 6 | qaqortoq\n",
      "Processing Record 25 of Set 6 | port hawkesbury\n",
      "Processing Record 26 of Set 6 | san patricio\n",
      "Processing Record 27 of Set 6 | murdochville\n",
      "Processing Record 28 of Set 6 | buritis\n",
      "Processing Record 29 of Set 6 | souillac\n",
      "Processing Record 30 of Set 6 | esperance\n",
      "Processing Record 31 of Set 6 | dingle\n",
      "Processing Record 32 of Set 6 | upernavik\n",
      "Processing Record 33 of Set 6 | culebra\n",
      "Processing Record 34 of Set 6 | havre-saint-pierre\n",
      "Processing Record 35 of Set 6 | chapais\n",
      "Processing Record 36 of Set 6 | ozernovskiy\n",
      "Processing Record 37 of Set 6 | eureka\n",
      "Processing Record 38 of Set 6 | nguiu\n",
      "City not found. Skipping...\n",
      "Processing Record 39 of Set 6 | siraha\n",
      "Processing Record 40 of Set 6 | jalu\n",
      "Processing Record 41 of Set 6 | narsaq\n",
      "Processing Record 42 of Set 6 | husavik\n",
      "Processing Record 43 of Set 6 | louisbourg\n",
      "City not found. Skipping...\n",
      "Processing Record 44 of Set 6 | neuquen\n",
      "Processing Record 45 of Set 6 | hilo\n",
      "Processing Record 46 of Set 6 | uyemskiy\n",
      "Processing Record 47 of Set 6 | boa vista\n",
      "Processing Record 48 of Set 6 | pyinmana\n",
      "Processing Record 49 of Set 6 | prince rupert\n",
      "Processing Record 0 of Set 7 | olinda\n",
      "Processing Record 1 of Set 7 | port blair\n",
      "Processing Record 2 of Set 7 | lyubech\n",
      "Processing Record 3 of Set 7 | suntar\n",
      "Processing Record 4 of Set 7 | moshi\n",
      "Processing Record 5 of Set 7 | namibe\n",
      "Processing Record 6 of Set 7 | aitape\n",
      "Processing Record 7 of Set 7 | vostok\n",
      "Processing Record 8 of Set 7 | hami\n",
      "Processing Record 9 of Set 7 | wanning\n",
      "Processing Record 10 of Set 7 | paamiut\n",
      "Processing Record 11 of Set 7 | durban\n",
      "Processing Record 12 of Set 7 | kieta\n",
      "Processing Record 13 of Set 7 | antofagasta\n",
      "Processing Record 14 of Set 7 | mount isa\n",
      "Processing Record 15 of Set 7 | ugoofaaru\n",
      "Processing Record 16 of Set 7 | ust-kuyga\n",
      "Processing Record 17 of Set 7 | tarko-sale\n",
      "Processing Record 18 of Set 7 | ribeira grande\n",
      "Processing Record 19 of Set 7 | bor\n",
      "Processing Record 20 of Set 7 | atambua\n",
      "Processing Record 21 of Set 7 | koumac\n",
      "Processing Record 22 of Set 7 | anadyr\n",
      "Processing Record 23 of Set 7 | olafsvik\n",
      "Processing Record 24 of Set 7 | sinnamary\n",
      "Processing Record 25 of Set 7 | hithadhoo\n",
      "Processing Record 26 of Set 7 | burnie\n",
      "Processing Record 27 of Set 7 | kirovskiy\n",
      "Processing Record 28 of Set 7 | labytnangi\n",
      "Processing Record 29 of Set 7 | selfoss\n",
      "Processing Record 30 of Set 7 | mandan\n",
      "Processing Record 31 of Set 7 | sumbe\n",
      "Processing Record 32 of Set 7 | dali\n",
      "Processing Record 33 of Set 7 | malmyzh\n",
      "Processing Record 34 of Set 7 | madan\n",
      "Processing Record 35 of Set 7 | sept-iles\n",
      "Processing Record 36 of Set 7 | beloha\n",
      "Processing Record 37 of Set 7 | kingman\n",
      "Processing Record 38 of Set 7 | talnakh\n",
      "Processing Record 39 of Set 7 | dolbeau\n",
      "City not found. Skipping...\n",
      "Processing Record 40 of Set 7 | coatlan\n",
      "City not found. Skipping...\n",
      "Processing Record 41 of Set 7 | newport beach\n",
      "Processing Record 42 of Set 7 | meyungs\n",
      "City not found. Skipping...\n",
      "Processing Record 43 of Set 7 | cockburn town\n",
      "Processing Record 44 of Set 7 | te anau\n",
      "Processing Record 45 of Set 7 | shingu\n",
      "Processing Record 46 of Set 7 | kalmunai\n",
      "Processing Record 47 of Set 7 | severo-kurilsk\n",
      "Processing Record 48 of Set 7 | oranjestad\n",
      "Processing Record 49 of Set 7 | wana\n",
      "Processing Record 0 of Set 8 | rajauri\n",
      "Processing Record 1 of Set 8 | yilan\n",
      "Processing Record 2 of Set 8 | taltal\n",
      "Processing Record 3 of Set 8 | makakilo city\n",
      "Processing Record 4 of Set 8 | talant\n",
      "Processing Record 5 of Set 8 | ariquemes\n",
      "Processing Record 6 of Set 8 | rocha\n",
      "Processing Record 7 of Set 8 | tucurui\n",
      "Processing Record 8 of Set 8 | atikokan\n",
      "Processing Record 9 of Set 8 | naze\n",
      "Processing Record 10 of Set 8 | rochegda\n",
      "Processing Record 11 of Set 8 | roebourne\n",
      "Processing Record 12 of Set 8 | kuala terengganu\n",
      "Processing Record 13 of Set 8 | sikandra\n",
      "Processing Record 14 of Set 8 | zhangye\n",
      "Processing Record 15 of Set 8 | tilichiki\n",
      "Processing Record 16 of Set 8 | rawson\n",
      "Processing Record 17 of Set 8 | lerwick\n",
      "Processing Record 18 of Set 8 | labutta\n",
      "City not found. Skipping...\n",
      "Processing Record 19 of Set 8 | bengkulu\n",
      "Processing Record 20 of Set 8 | fiche\n",
      "Processing Record 21 of Set 8 | zhigansk\n",
      "Processing Record 22 of Set 8 | mizan teferi\n",
      "Processing Record 23 of Set 8 | billings\n",
      "Processing Record 24 of Set 8 | porto novo\n",
      "Processing Record 25 of Set 8 | ekibastuz\n",
      "Processing Record 26 of Set 8 | barddhaman\n",
      "Processing Record 27 of Set 8 | muli\n"
     ]
    },
    {
     "name": "stdout",
     "output_type": "stream",
     "text": [
      "Processing Record 28 of Set 8 | honningsvag\n",
      "Processing Record 29 of Set 8 | kununurra\n",
      "Processing Record 30 of Set 8 | kilcullen\n",
      "Processing Record 31 of Set 8 | college\n",
      "Processing Record 32 of Set 8 | lolua\n",
      "City not found. Skipping...\n",
      "Processing Record 33 of Set 8 | opuwo\n",
      "Processing Record 34 of Set 8 | samarai\n",
      "Processing Record 35 of Set 8 | buraydah\n",
      "Processing Record 36 of Set 8 | gravdal\n",
      "Processing Record 37 of Set 8 | talcahuano\n",
      "Processing Record 38 of Set 8 | cayenne\n",
      "Processing Record 39 of Set 8 | sao joao da barra\n",
      "Processing Record 40 of Set 8 | kiama\n",
      "Processing Record 41 of Set 8 | guarapari\n",
      "Processing Record 42 of Set 8 | minden\n",
      "Processing Record 43 of Set 8 | bulawayo\n",
      "Processing Record 44 of Set 8 | tsihombe\n",
      "City not found. Skipping...\n",
      "Processing Record 45 of Set 8 | aykhal\n",
      "Processing Record 46 of Set 8 | rosetta\n",
      "Processing Record 47 of Set 8 | pangnirtung\n",
      "Processing Record 48 of Set 8 | ginir\n",
      "Processing Record 49 of Set 8 | wewak\n",
      "Processing Record 0 of Set 9 | rognan\n",
      "Processing Record 1 of Set 9 | tavira\n",
      "Processing Record 2 of Set 9 | oyama\n",
      "Processing Record 3 of Set 9 | dubreka\n",
      "Processing Record 4 of Set 9 | dire\n",
      "Processing Record 5 of Set 9 | van buren\n",
      "Processing Record 6 of Set 9 | ardistan\n",
      "City not found. Skipping...\n",
      "Processing Record 7 of Set 9 | am timan\n",
      "Processing Record 8 of Set 9 | kihei\n",
      "Processing Record 9 of Set 9 | coihaique\n",
      "Processing Record 10 of Set 9 | road town\n",
      "Processing Record 11 of Set 9 | lompoc\n",
      "Processing Record 12 of Set 9 | poso\n",
      "Processing Record 13 of Set 9 | khani\n",
      "Processing Record 14 of Set 9 | mount darwin\n",
      "Processing Record 15 of Set 9 | matamoros\n",
      "Processing Record 16 of Set 9 | dzhebariki-khaya\n",
      "Processing Record 17 of Set 9 | takapau\n",
      "Processing Record 18 of Set 9 | sabang\n",
      "Processing Record 19 of Set 9 | wanaka\n",
      "Processing Record 20 of Set 9 | belushya guba\n",
      "City not found. Skipping...\n",
      "Processing Record 21 of Set 9 | margate\n",
      "Processing Record 22 of Set 9 | barbar\n",
      "City not found. Skipping...\n",
      "Processing Record 23 of Set 9 | los llanos de aridane\n",
      "Processing Record 24 of Set 9 | portland\n",
      "Processing Record 25 of Set 9 | fairbanks\n",
      "Processing Record 26 of Set 9 | mahebourg\n",
      "Processing Record 27 of Set 9 | sorland\n",
      "Processing Record 28 of Set 9 | bekwai\n",
      "Processing Record 29 of Set 9 | tumannyy\n",
      "City not found. Skipping...\n",
      "Processing Record 30 of Set 9 | dumai\n",
      "Processing Record 31 of Set 9 | grand gaube\n",
      "Processing Record 32 of Set 9 | espanola\n",
      "Processing Record 33 of Set 9 | iberia\n",
      "Processing Record 34 of Set 9 | manaus\n",
      "Processing Record 35 of Set 9 | padang\n",
      "Processing Record 36 of Set 9 | manitowoc\n",
      "Processing Record 37 of Set 9 | morristown\n",
      "Processing Record 38 of Set 9 | westervoort\n",
      "Processing Record 39 of Set 9 | san policarpo\n",
      "Processing Record 40 of Set 9 | nikel\n",
      "Processing Record 41 of Set 9 | mildura\n",
      "Processing Record 42 of Set 9 | kondinskoye\n",
      "Processing Record 43 of Set 9 | markova\n",
      "Processing Record 44 of Set 9 | abnub\n",
      "Processing Record 45 of Set 9 | carolina\n",
      "Processing Record 46 of Set 9 | gorontalo\n",
      "Processing Record 47 of Set 9 | deder\n",
      "Processing Record 48 of Set 9 | tunxi\n",
      "City not found. Skipping...\n",
      "Processing Record 49 of Set 9 | beni\n",
      "Processing Record 0 of Set 10 | isangel\n",
      "Processing Record 1 of Set 10 | surovikino\n",
      "Processing Record 2 of Set 10 | gangapur\n",
      "Processing Record 3 of Set 10 | katsuura\n",
      "Processing Record 4 of Set 10 | petropavlovsk-kamchatskiy\n",
      "Processing Record 5 of Set 10 | humberto de campos\n",
      "Processing Record 6 of Set 10 | biak\n",
      "Processing Record 7 of Set 10 | abha\n",
      "Processing Record 8 of Set 10 | muqui\n",
      "Processing Record 9 of Set 10 | verkh-usugli\n",
      "Processing Record 10 of Set 10 | marawi\n",
      "Processing Record 11 of Set 10 | san cristobal\n",
      "Processing Record 12 of Set 10 | tuscaloosa\n",
      "Processing Record 13 of Set 10 | teknaf\n",
      "Processing Record 14 of Set 10 | srivardhan\n",
      "Processing Record 15 of Set 10 | elmira\n",
      "Processing Record 16 of Set 10 | portmore\n",
      "Processing Record 17 of Set 10 | ouadda\n",
      "Processing Record 18 of Set 10 | crab hill\n",
      "City not found. Skipping...\n",
      "Processing Record 19 of Set 10 | oktyabrskiy\n",
      "Processing Record 20 of Set 10 | san carlos del zulia\n",
      "Processing Record 21 of Set 10 | ilulissat\n",
      "Processing Record 22 of Set 10 | faya\n",
      "Processing Record 23 of Set 10 | vila do maio\n",
      "Processing Record 24 of Set 10 | alta floresta\n",
      "Processing Record 25 of Set 10 | bridgetown\n",
      "Processing Record 26 of Set 10 | kirkwall\n",
      "Processing Record 27 of Set 10 | ban phai\n",
      "Processing Record 28 of Set 10 | huilong\n",
      "Processing Record 29 of Set 10 | santa rosa\n",
      "Processing Record 30 of Set 10 | sampang\n",
      "Processing Record 31 of Set 10 | birnin kebbi\n",
      "Processing Record 32 of Set 10 | codajas\n",
      "Processing Record 33 of Set 10 | pakxe\n",
      "Processing Record 34 of Set 10 | maneadero\n",
      "Processing Record 35 of Set 10 | ozimek\n",
      "Processing Record 36 of Set 10 | abu jubayhah\n",
      "City not found. Skipping...\n",
      "Processing Record 37 of Set 10 | la sarre\n",
      "Processing Record 38 of Set 10 | north platte\n",
      "Processing Record 39 of Set 10 | mehamn\n",
      "Processing Record 40 of Set 10 | sovetskiy\n",
      "Processing Record 41 of Set 10 | korla\n",
      "Processing Record 42 of Set 10 | manggar\n",
      "Processing Record 43 of Set 10 | bozeman\n",
      "Processing Record 44 of Set 10 | sorong\n",
      "Processing Record 45 of Set 10 | dhidhdhoo\n",
      "Processing Record 46 of Set 10 | tiznit\n",
      "Processing Record 47 of Set 10 | calabozo\n",
      "Processing Record 48 of Set 10 | kaele\n",
      "Processing Record 49 of Set 10 | el guamo\n",
      "Processing Record 0 of Set 11 | auki\n",
      "Processing Record 1 of Set 11 | campbell river\n",
      "Processing Record 2 of Set 11 | acarau\n",
      "Processing Record 3 of Set 11 | codrington\n",
      "Processing Record 4 of Set 11 | hendijan\n",
      "City not found. Skipping...\n",
      "Processing Record 5 of Set 11 | bokspits\n",
      "City not found. Skipping...\n",
      "Processing Record 6 of Set 11 | lorengau\n",
      "Processing Record 7 of Set 11 | pizarro\n",
      "Processing Record 8 of Set 11 | siva\n",
      "Processing Record 9 of Set 11 | basco\n",
      "Processing Record 10 of Set 11 | waingapu\n",
      "Processing Record 11 of Set 11 | tenabo\n",
      "Processing Record 12 of Set 11 | zhuhai\n",
      "Processing Record 13 of Set 11 | sao gabriel da cachoeira\n",
      "Processing Record 14 of Set 11 | osa\n",
      "Processing Record 15 of Set 11 | kirando\n",
      "Processing Record 16 of Set 11 | taksimo\n",
      "Processing Record 17 of Set 11 | evanston\n",
      "Processing Record 18 of Set 11 | catuday\n",
      "Processing Record 19 of Set 11 | wuwei\n",
      "Processing Record 20 of Set 11 | podgornoye\n",
      "Processing Record 21 of Set 11 | juneau\n",
      "Processing Record 22 of Set 11 | tazovskiy\n",
      "Processing Record 23 of Set 11 | berlevag\n",
      "Processing Record 24 of Set 11 | baghdad\n",
      "Processing Record 25 of Set 11 | lewistown\n",
      "Processing Record 26 of Set 11 | ikalamavony\n",
      "Processing Record 27 of Set 11 | hanyang\n",
      "Processing Record 28 of Set 11 | monte alegre\n",
      "Processing Record 29 of Set 11 | bend\n",
      "Processing Record 30 of Set 11 | pundaguitan\n",
      "Processing Record 31 of Set 11 | mananjary\n",
      "Processing Record 32 of Set 11 | pomabamba\n",
      "Processing Record 33 of Set 11 | saint-pierre\n",
      "Processing Record 34 of Set 11 | boone\n",
      "Processing Record 35 of Set 11 | gaogou\n",
      "Processing Record 36 of Set 11 | svetlogorsk\n",
      "Processing Record 37 of Set 11 | yayva\n",
      "Processing Record 38 of Set 11 | boshnyakovo\n",
      "Processing Record 39 of Set 11 | rafraf\n",
      "Processing Record 40 of Set 11 | nouadhibou\n",
      "Processing Record 41 of Set 11 | san jose\n",
      "Processing Record 42 of Set 11 | galveston\n",
      "Processing Record 43 of Set 11 | modrica\n",
      "Processing Record 44 of Set 11 | vanimo\n",
      "Processing Record 45 of Set 11 | sajanan\n",
      "Processing Record 46 of Set 11 | nome\n",
      "Processing Record 47 of Set 11 | kavaratti\n",
      "Processing Record 48 of Set 11 | grand river south east\n",
      "City not found. Skipping...\n",
      "Processing Record 49 of Set 11 | klaksvik\n",
      "Processing Record 0 of Set 12 | alice springs\n",
      "Processing Record 1 of Set 12 | kegayli\n",
      "City not found. Skipping...\n",
      "Processing Record 2 of Set 12 | fecamp\n",
      "Processing Record 3 of Set 12 | jumla\n",
      "Processing Record 4 of Set 12 | awjilah\n",
      "Processing Record 5 of Set 12 | kenitra\n",
      "Processing Record 6 of Set 12 | zhezkazgan\n",
      "Processing Record 7 of Set 12 | nara\n",
      "Processing Record 8 of Set 12 | san juan\n",
      "Processing Record 9 of Set 12 | willowmore\n",
      "Processing Record 10 of Set 12 | yar-sale\n",
      "Processing Record 11 of Set 12 | praia\n",
      "Processing Record 12 of Set 12 | grao mogol\n",
      "Processing Record 13 of Set 12 | ambunti\n",
      "Processing Record 14 of Set 12 | zandvoort\n",
      "Processing Record 15 of Set 12 | arlit\n",
      "Processing Record 16 of Set 12 | luwuk\n"
     ]
    },
    {
     "name": "stdout",
     "output_type": "stream",
     "text": [
      "Processing Record 17 of Set 12 | la orilla\n",
      "Processing Record 18 of Set 12 | khasan\n",
      "Processing Record 19 of Set 12 | luau\n",
      "Processing Record 20 of Set 12 | vila franca do campo\n",
      "Processing Record 21 of Set 12 | meulaboh\n",
      "Processing Record 22 of Set 12 | chekhov\n",
      "Processing Record 23 of Set 12 | ghanzi\n",
      "Processing Record 24 of Set 12 | ayan\n",
      "Processing Record 25 of Set 12 | yalova\n",
      "Processing Record 26 of Set 12 | tsalka\n",
      "Processing Record 27 of Set 12 | maryville\n",
      "Processing Record 28 of Set 12 | vangaindrano\n",
      "Processing Record 29 of Set 12 | mendi\n",
      "Processing Record 30 of Set 12 | hit\n",
      "Processing Record 31 of Set 12 | toora-khem\n",
      "Processing Record 32 of Set 12 | igrim\n",
      "Processing Record 33 of Set 12 | kysyl-syr\n",
      "Processing Record 34 of Set 12 | kerman\n",
      "Processing Record 35 of Set 12 | tahe\n",
      "Processing Record 36 of Set 12 | asyut\n",
      "Processing Record 37 of Set 12 | rawannawi\n",
      "City not found. Skipping...\n",
      "Processing Record 38 of Set 12 | guaraniacu\n",
      "Processing Record 39 of Set 12 | tinskoy\n",
      "Processing Record 40 of Set 12 | lasa\n",
      "Processing Record 41 of Set 12 | ijaki\n",
      "City not found. Skipping...\n",
      "Processing Record 42 of Set 12 | rosh pinna\n",
      "Processing Record 43 of Set 12 | perevolotskiy\n",
      "Processing Record 44 of Set 12 | arkhipo-osipovka\n",
      "Processing Record 45 of Set 12 | soyo\n",
      "Processing Record 46 of Set 12 | yomitan\n",
      "City not found. Skipping...\n",
      "Processing Record 47 of Set 12 | tecpan\n",
      "Processing Record 48 of Set 12 | adacs\n",
      "Processing Record 49 of Set 12 | magog\n",
      "Processing Record 0 of Set 13 | kananga\n",
      "Processing Record 1 of Set 13 | bismarck\n",
      "Processing Record 2 of Set 13 | camopi\n",
      "-----------------------------\n",
      "Data Retrieval Complete      \n",
      "-----------------------------\n"
     ]
    }
   ],
   "source": [
    "# Set the API base URL\n",
    "url = \"http://api.openweathermap.org/data/2.5/weather?\"\n",
    "\n",
    "# Define an empty list to fetch the weather data for each city\n",
    "city_data = []\n",
    "\n",
    "# Print to logger\n",
    "print(\"Beginning Data Retrieval     \")\n",
    "print(\"-----------------------------\")\n",
    "\n",
    "# Create counters\n",
    "record_count = 1\n",
    "set_count = 1\n",
    "\n",
    "# Loop through all the cities in our list to fetch weather data\n",
    "for i, city in enumerate(cities):\n",
    "        \n",
    "    # Group cities in sets of 50 for logging purposes\n",
    "    if (i % 50 == 0 and i >= 50):\n",
    "        set_count += 1\n",
    "        record_count = 0\n",
    "\n",
    "    # Create endpoint URL with each city\n",
    "    city_url = url + \"appid=\" + weather_api_key + \"&units=imperial\" + \"&q=\" + city\n",
    "    \n",
    "    # Log the url, record, and set numbers\n",
    "    print(f\"Processing Record {record_count} of Set {set_count} | {city}\")\n",
    "\n",
    "    # Add 1 to the record count\n",
    "    record_count += 1\n",
    "\n",
    "    # Run an API request for each of the cities\n",
    "    try:\n",
    "        # Parse the JSON and retrieve data\n",
    "        weather = requests.get(city_url).json()\n",
    "\n",
    "        # Parse out latitude, longitude, max temp, humidity, cloudiness, wind speed, country, and date\n",
    "        city_lat = weather['coord']['lat']\n",
    "        city_lng = weather['coord']['lon']\n",
    "        city_max_temp = weather['main']['temp_max']\n",
    "        city_humidity = weather['main']['humidity']\n",
    "        city_clouds = weather['clouds']['all']\n",
    "        city_wind = weather ['wind']['speed']\n",
    "        city_country = weather['sys']['country']\n",
    "        city_date = weather['dt']\n",
    "\n",
    "        # Append the City information into city_data list\n",
    "        city_data.append({\"City\": city, \n",
    "                          \"Lat\": city_lat, \n",
    "                          \"Lng\": city_lng, \n",
    "                          \"Max Temp\": city_max_temp,\n",
    "                          \"Humidity\": city_humidity,\n",
    "                          \"Cloudiness\": city_clouds,\n",
    "                          \"Wind Speed\": city_wind,\n",
    "                          \"Country\": city_country,\n",
    "                          \"Date\": city_date})\n",
    "\n",
    "    # If an error is experienced, skip the city\n",
    "    except:\n",
    "        print(\"City not found. Skipping...\")\n",
    "        pass\n",
    "              \n",
    "# Indicate that Data Loading is complete \n",
    "print(\"-----------------------------\")\n",
    "print(\"Data Retrieval Complete      \")\n",
    "print(\"-----------------------------\")"
   ]
  },
  {
   "cell_type": "code",
   "execution_count": 7,
   "metadata": {},
   "outputs": [
    {
     "data": {
      "text/plain": [
       "City          556\n",
       "Lat           556\n",
       "Lng           556\n",
       "Max Temp      556\n",
       "Humidity      556\n",
       "Cloudiness    556\n",
       "Wind Speed    556\n",
       "Country       556\n",
       "Date          556\n",
       "dtype: int64"
      ]
     },
     "execution_count": 7,
     "metadata": {},
     "output_type": "execute_result"
    }
   ],
   "source": [
    "# Convert the cities weather data into a Pandas DataFrame\n",
    "                    \n",
    "city_data_df= pd.DataFrame(city_data)  \n",
    "city_data_df\n",
    "\n",
    "# Show Record Count\n",
    "\n",
    "city_data_df.count()"
   ]
  },
  {
   "cell_type": "code",
   "execution_count": 8,
   "metadata": {},
   "outputs": [
    {
     "data": {
      "text/html": [
       "<div>\n",
       "<style scoped>\n",
       "    .dataframe tbody tr th:only-of-type {\n",
       "        vertical-align: middle;\n",
       "    }\n",
       "\n",
       "    .dataframe tbody tr th {\n",
       "        vertical-align: top;\n",
       "    }\n",
       "\n",
       "    .dataframe thead th {\n",
       "        text-align: right;\n",
       "    }\n",
       "</style>\n",
       "<table border=\"1\" class=\"dataframe\">\n",
       "  <thead>\n",
       "    <tr style=\"text-align: right;\">\n",
       "      <th></th>\n",
       "      <th>City</th>\n",
       "      <th>Lat</th>\n",
       "      <th>Lng</th>\n",
       "      <th>Max Temp</th>\n",
       "      <th>Humidity</th>\n",
       "      <th>Cloudiness</th>\n",
       "      <th>Wind Speed</th>\n",
       "      <th>Country</th>\n",
       "      <th>Date</th>\n",
       "    </tr>\n",
       "  </thead>\n",
       "  <tbody>\n",
       "    <tr>\n",
       "      <th>0</th>\n",
       "      <td>kruisfontein</td>\n",
       "      <td>-34.0033</td>\n",
       "      <td>24.7314</td>\n",
       "      <td>59.88</td>\n",
       "      <td>83</td>\n",
       "      <td>20</td>\n",
       "      <td>2.51</td>\n",
       "      <td>ZA</td>\n",
       "      <td>1669867295</td>\n",
       "    </tr>\n",
       "    <tr>\n",
       "      <th>1</th>\n",
       "      <td>castro</td>\n",
       "      <td>-24.7911</td>\n",
       "      <td>-50.0119</td>\n",
       "      <td>58.96</td>\n",
       "      <td>98</td>\n",
       "      <td>60</td>\n",
       "      <td>4.45</td>\n",
       "      <td>BR</td>\n",
       "      <td>1669867295</td>\n",
       "    </tr>\n",
       "    <tr>\n",
       "      <th>2</th>\n",
       "      <td>mareeba</td>\n",
       "      <td>-17.0000</td>\n",
       "      <td>145.4333</td>\n",
       "      <td>80.44</td>\n",
       "      <td>80</td>\n",
       "      <td>100</td>\n",
       "      <td>0.31</td>\n",
       "      <td>AU</td>\n",
       "      <td>1669867296</td>\n",
       "    </tr>\n",
       "    <tr>\n",
       "      <th>3</th>\n",
       "      <td>tautira</td>\n",
       "      <td>-17.7333</td>\n",
       "      <td>-149.1500</td>\n",
       "      <td>78.24</td>\n",
       "      <td>83</td>\n",
       "      <td>31</td>\n",
       "      <td>14.38</td>\n",
       "      <td>PF</td>\n",
       "      <td>1669867291</td>\n",
       "    </tr>\n",
       "    <tr>\n",
       "      <th>4</th>\n",
       "      <td>dikson</td>\n",
       "      <td>73.5069</td>\n",
       "      <td>80.5464</td>\n",
       "      <td>22.53</td>\n",
       "      <td>94</td>\n",
       "      <td>100</td>\n",
       "      <td>14.63</td>\n",
       "      <td>RU</td>\n",
       "      <td>1669867296</td>\n",
       "    </tr>\n",
       "  </tbody>\n",
       "</table>\n",
       "</div>"
      ],
      "text/plain": [
       "           City      Lat       Lng  Max Temp  Humidity  Cloudiness  \\\n",
       "0  kruisfontein -34.0033   24.7314     59.88        83          20   \n",
       "1        castro -24.7911  -50.0119     58.96        98          60   \n",
       "2       mareeba -17.0000  145.4333     80.44        80         100   \n",
       "3       tautira -17.7333 -149.1500     78.24        83          31   \n",
       "4        dikson  73.5069   80.5464     22.53        94         100   \n",
       "\n",
       "   Wind Speed Country        Date  \n",
       "0        2.51      ZA  1669867295  \n",
       "1        4.45      BR  1669867295  \n",
       "2        0.31      AU  1669867296  \n",
       "3       14.38      PF  1669867291  \n",
       "4       14.63      RU  1669867296  "
      ]
     },
     "execution_count": 8,
     "metadata": {},
     "output_type": "execute_result"
    }
   ],
   "source": [
    "# Display sample data\n",
    "city_data_df.head()"
   ]
  },
  {
   "cell_type": "code",
   "execution_count": 9,
   "metadata": {},
   "outputs": [],
   "source": [
    "# Export the City_Data into a csv\n",
    "city_data_df.to_csv(\"/users/juanmarin/desktop/Data_Bootcamp/python-api-challenge1/WeatherPy/Starter_Code_5/output_data/cities.csv\", index_label=\"City_ID\")"
   ]
  },
  {
   "cell_type": "code",
   "execution_count": 10,
   "metadata": {},
   "outputs": [
    {
     "data": {
      "text/html": [
       "<div>\n",
       "<style scoped>\n",
       "    .dataframe tbody tr th:only-of-type {\n",
       "        vertical-align: middle;\n",
       "    }\n",
       "\n",
       "    .dataframe tbody tr th {\n",
       "        vertical-align: top;\n",
       "    }\n",
       "\n",
       "    .dataframe thead th {\n",
       "        text-align: right;\n",
       "    }\n",
       "</style>\n",
       "<table border=\"1\" class=\"dataframe\">\n",
       "  <thead>\n",
       "    <tr style=\"text-align: right;\">\n",
       "      <th></th>\n",
       "      <th>City</th>\n",
       "      <th>Lat</th>\n",
       "      <th>Lng</th>\n",
       "      <th>Max Temp</th>\n",
       "      <th>Humidity</th>\n",
       "      <th>Cloudiness</th>\n",
       "      <th>Wind Speed</th>\n",
       "      <th>Country</th>\n",
       "      <th>Date</th>\n",
       "    </tr>\n",
       "    <tr>\n",
       "      <th>City_ID</th>\n",
       "      <th></th>\n",
       "      <th></th>\n",
       "      <th></th>\n",
       "      <th></th>\n",
       "      <th></th>\n",
       "      <th></th>\n",
       "      <th></th>\n",
       "      <th></th>\n",
       "      <th></th>\n",
       "    </tr>\n",
       "  </thead>\n",
       "  <tbody>\n",
       "    <tr>\n",
       "      <th>0</th>\n",
       "      <td>kruisfontein</td>\n",
       "      <td>-34.0033</td>\n",
       "      <td>24.7314</td>\n",
       "      <td>59.88</td>\n",
       "      <td>83</td>\n",
       "      <td>20</td>\n",
       "      <td>2.51</td>\n",
       "      <td>ZA</td>\n",
       "      <td>1669867295</td>\n",
       "    </tr>\n",
       "    <tr>\n",
       "      <th>1</th>\n",
       "      <td>castro</td>\n",
       "      <td>-24.7911</td>\n",
       "      <td>-50.0119</td>\n",
       "      <td>58.96</td>\n",
       "      <td>98</td>\n",
       "      <td>60</td>\n",
       "      <td>4.45</td>\n",
       "      <td>BR</td>\n",
       "      <td>1669867295</td>\n",
       "    </tr>\n",
       "    <tr>\n",
       "      <th>2</th>\n",
       "      <td>mareeba</td>\n",
       "      <td>-17.0000</td>\n",
       "      <td>145.4333</td>\n",
       "      <td>80.44</td>\n",
       "      <td>80</td>\n",
       "      <td>100</td>\n",
       "      <td>0.31</td>\n",
       "      <td>AU</td>\n",
       "      <td>1669867296</td>\n",
       "    </tr>\n",
       "    <tr>\n",
       "      <th>3</th>\n",
       "      <td>tautira</td>\n",
       "      <td>-17.7333</td>\n",
       "      <td>-149.1500</td>\n",
       "      <td>78.24</td>\n",
       "      <td>83</td>\n",
       "      <td>31</td>\n",
       "      <td>14.38</td>\n",
       "      <td>PF</td>\n",
       "      <td>1669867291</td>\n",
       "    </tr>\n",
       "    <tr>\n",
       "      <th>4</th>\n",
       "      <td>dikson</td>\n",
       "      <td>73.5069</td>\n",
       "      <td>80.5464</td>\n",
       "      <td>22.53</td>\n",
       "      <td>94</td>\n",
       "      <td>100</td>\n",
       "      <td>14.63</td>\n",
       "      <td>RU</td>\n",
       "      <td>1669867296</td>\n",
       "    </tr>\n",
       "  </tbody>\n",
       "</table>\n",
       "</div>"
      ],
      "text/plain": [
       "                 City      Lat       Lng  Max Temp  Humidity  Cloudiness  \\\n",
       "City_ID                                                                    \n",
       "0        kruisfontein -34.0033   24.7314     59.88        83          20   \n",
       "1              castro -24.7911  -50.0119     58.96        98          60   \n",
       "2             mareeba -17.0000  145.4333     80.44        80         100   \n",
       "3             tautira -17.7333 -149.1500     78.24        83          31   \n",
       "4              dikson  73.5069   80.5464     22.53        94         100   \n",
       "\n",
       "         Wind Speed Country        Date  \n",
       "City_ID                                  \n",
       "0              2.51      ZA  1669867295  \n",
       "1              4.45      BR  1669867295  \n",
       "2              0.31      AU  1669867296  \n",
       "3             14.38      PF  1669867291  \n",
       "4             14.63      RU  1669867296  "
      ]
     },
     "execution_count": 10,
     "metadata": {},
     "output_type": "execute_result"
    }
   ],
   "source": [
    "# Read saved data\n",
    "city_data_df = pd.read_csv(\"/users/juanmarin/desktop/Data_Bootcamp/python-api-challenge1/WeatherPy/Starter_Code_5/output_data/cities.csv\", index_col=\"City_ID\")\n",
    "\n",
    "# Display sample data\n",
    "city_data_df.head()"
   ]
  },
  {
   "cell_type": "markdown",
   "metadata": {},
   "source": [
    "### Create the Scatter Plots Requested\n",
    "\n",
    "#### Latitude Vs. Temperature"
   ]
  },
  {
   "cell_type": "code",
   "execution_count": 15,
   "metadata": {
    "tags": []
   },
   "outputs": [
    {
     "data": {
      "image/png": "[encoded data removed]",
      "text/plain": [
       "<Figure size 432x288 with 1 Axes>"
      ]
     },
     "metadata": {
      "needs_background": "light"
     },
     "output_type": "display_data"
    }
   ],
   "source": [
    "# Build scatter plot for latitude vs. temperature\n",
    "\n",
    "\n",
    "plt.scatter(city_data_df[\"Lat\"], city_data_df[\"Max Temp\"])\n",
    "\n",
    "plt.xlabel(\"Lat\")\n",
    "plt.ylabel(\"Max Temp\")\n",
    "\n",
    "\n",
    "\n",
    "# Save the figure\n",
    "plt.savefig(\"/users/juanmarin/desktop/Data_Bootcamp/python-api-challenge1/WeatherPy/Starter_Code_5/output_data/Fig1.png\")\n",
    "\n",
    "\n",
    "\n",
    "# Show plot\n",
    "plt.show()"
   ]
  },
  {
   "cell_type": "markdown",
   "metadata": {},
   "source": [
    "#### Latitude Vs. Humidity"
   ]
  },
  {
   "cell_type": "code",
   "execution_count": 16,
   "metadata": {},
   "outputs": [
    {
     "data": {
      "image/png": "[encoded data removed]",
      "text/plain": [
       "<Figure size 432x288 with 1 Axes>"
      ]
     },
     "metadata": {
      "needs_background": "light"
     },
     "output_type": "display_data"
    }
   ],
   "source": [
    "# Build the scatter plots for latitude vs. humidity\n",
    "plt.scatter(city_data_df[\"Lat\"], city_data_df[\"Humidity\"])\n",
    "\n",
    "plt.xlabel(\"Lat\")\n",
    "plt.ylabel(\"Humidity\")\n",
    "\n",
    "\n",
    "# Save the figure\n",
    "plt.savefig(\"/users/juanmarin/desktop/Data_Bootcamp/python-api-challenge1/WeatherPy/Starter_Code_5/output_data/Fig2.png\")\n",
    "\n",
    "# Show plot\n",
    "plt.show()"
   ]
  },
  {
   "cell_type": "markdown",
   "metadata": {},
   "source": [
    "#### Latitude Vs. Cloudiness"
   ]
  },
  {
   "cell_type": "code",
   "execution_count": 17,
   "metadata": {},
   "outputs": [
    {
     "data": {
      "image/png": "[encoded data removed]",
      "text/plain": [
       "<Figure size 432x288 with 1 Axes>"
      ]
     },
     "metadata": {
      "needs_background": "light"
     },
     "output_type": "display_data"
    },
    {
     "data": {
      "text/plain": [
       "<Figure size 432x288 with 0 Axes>"
      ]
     },
     "metadata": {},
     "output_type": "display_data"
    }
   ],
   "source": [
    "# Build the scatter plots for latitude vs. cloudiness\n",
    "plt.scatter(city_data_df[\"Lat\"], city_data_df[\"Cloudiness\"])\n",
    "\n",
    "plt.xlabel(\"Lat\")\n",
    "plt.ylabel(\"Cloudiness\")\n",
    "\n",
    "plt.show()\n",
    "# Save the figure\n",
    "plt.savefig(\"/users/juanmarin/desktop/Data_Bootcamp/python-api-challenge1/WeatherPy/Starter_Code_5/output_data/Fig3.png\")\n",
    "\n",
    "# Show plot\n",
    "plt.show()"
   ]
  },
  {
   "cell_type": "markdown",
   "metadata": {},
   "source": [
    "#### Latitude vs. Wind Speed Plot"
   ]
  },
  {
   "cell_type": "code",
   "execution_count": 18,
   "metadata": {},
   "outputs": [
    {
     "data": {
      "image/png": "[encoded data removed]",
      "text/plain": [
       "<Figure size 432x288 with 1 Axes>"
      ]
     },
     "metadata": {
      "needs_background": "light"
     },
     "output_type": "display_data"
    }
   ],
   "source": [
    "# Build the scatter plots for latitude vs. wind speed\n",
    "plt.scatter(city_data_df[\"Lat\"], city_data_df[\"Wind Speed\"])\n",
    "\n",
    "plt.xlabel(\"Lat\")\n",
    "plt.ylabel(\"Wind Speed\")\n",
    "\n",
    "\n",
    "# Save the figure\n",
    "plt.savefig(\"/users/juanmarin/desktop/Data_Bootcamp/python-api-challenge1/WeatherPy/Starter_Code_5/output_data/Fig4.png\")\n",
    "\n",
    "# Show plot\n",
    "plt.show()"
   ]
  },
  {
   "cell_type": "markdown",
   "metadata": {},
   "source": [
    "---\n",
    "\n",
    "## Requirement 2: Compute Linear Regression for Each Relationship\n"
   ]
  },
  {
   "cell_type": "code",
   "execution_count": 19,
   "metadata": {},
   "outputs": [
    {
     "name": "stdout",
     "output_type": "stream",
     "text": [
      "r-value is: -0.7312714306183653\n"
     ]
    },
    {
     "data": {
      "text/plain": [
       "<function matplotlib.pyplot.show(close=None, block=None)>"
      ]
     },
     "execution_count": 19,
     "metadata": {},
     "output_type": "execute_result"
    },
    {
     "data": {
      "image/png": "[encoded data removed]",
      "text/plain": [
       "<Figure size 432x288 with 1 Axes>"
      ]
     },
     "metadata": {
      "needs_background": "light"
     },
     "output_type": "display_data"
    }
   ],
   "source": [
    "# Define a function to create Linear Regression plots\n",
    "    \n",
    "x_values = city_data_df[\"Lat\"]\n",
    "y_values = city_data_df[\"Max Temp\"]\n",
    "\n",
    "(slope, intercept, rvalue, pvalue, stderr) = linregress(x_values, y_values)\n",
    "\n",
    "regress_values = x_values * slope + intercept \n",
    "\n",
    "line_eq = \"y = \" + str(round(slope,2)) + \"x + \" + str(round(intercept,2))\n",
    "\n",
    "plt.scatter(x_values,y_values)\n",
    "\n",
    "plt.plot(x_values,regress_values,\"r-\")\n",
    "\n",
    "plt.annotate(line_eq,(6,10),fontsize=15,color=\"red\")\n",
    "\n",
    "plt.xlabel('Lat')\n",
    "plt.ylabel('Max Temp')\n",
    "print(f\"r-value is: {rvalue}\")\n",
    "plt.show\n",
    "    \n",
    "\n",
    "    \n",
    "    "
   ]
  },
  {
   "cell_type": "code",
   "execution_count": 20,
   "metadata": {},
   "outputs": [
    {
     "name": "stdout",
     "output_type": "stream",
     "text": [
      "r-value is: 0.2087904846635477\n"
     ]
    },
    {
     "data": {
      "text/plain": [
       "<function matplotlib.pyplot.show(close=None, block=None)>"
      ]
     },
     "execution_count": 20,
     "metadata": {},
     "output_type": "execute_result"
    },
    {
     "data": {
      "image/png": "[encoded data removed]",
      "text/plain": [
       "<Figure size 432x288 with 1 Axes>"
      ]
     },
     "metadata": {
      "needs_background": "light"
     },
     "output_type": "display_data"
    }
   ],
   "source": [
    "x_values = city_data_df[\"Lat\"]\n",
    "y_values = city_data_df[\"Humidity\"]\n",
    "\n",
    "(slope, intercept, rvalue, pvalue, stderr) = linregress(x_values, y_values)\n",
    "\n",
    "regress_values = x_values * slope + intercept \n",
    "\n",
    "line_eq = \"y = \" + str(round(slope,2)) + \"x + \" + str(round(intercept,2))\n",
    "\n",
    "plt.scatter(x_values,y_values)\n",
    "\n",
    "plt.plot(x_values,regress_values,\"r-\")\n",
    "\n",
    "plt.annotate(line_eq,(6,10),fontsize=15,color=\"red\")\n",
    "\n",
    "plt.xlabel('Lat')\n",
    "plt.ylabel('Humidity')\n",
    "print(f\"r-value is: {rvalue}\")\n",
    "plt.show"
   ]
  },
  {
   "cell_type": "code",
   "execution_count": 21,
   "metadata": {},
   "outputs": [
    {
     "name": "stdout",
     "output_type": "stream",
     "text": [
      "r-value is: 0.12646377895679242\n"
     ]
    },
    {
     "data": {
      "text/plain": [
       "<function matplotlib.pyplot.show(close=None, block=None)>"
      ]
     },
     "execution_count": 21,
     "metadata": {},
     "output_type": "execute_result"
    },
    {
     "data": {
      "image/png": "[encoded data removed]",
      "text/plain": [
       "<Figure size 432x288 with 1 Axes>"
      ]
     },
     "metadata": {
      "needs_background": "light"
     },
     "output_type": "display_data"
    }
   ],
   "source": [
    "x_values = city_data_df[\"Lat\"]\n",
    "y_values = city_data_df[\"Cloudiness\"]\n",
    "\n",
    "(slope, intercept, rvalue, pvalue, stderr) = linregress(x_values, y_values)\n",
    "\n",
    "regress_values = x_values * slope + intercept \n",
    "\n",
    "line_eq = \"y = \" + str(round(slope,2)) + \"x + \" + str(round(intercept,2))\n",
    "\n",
    "plt.scatter(x_values,y_values)\n",
    "\n",
    "plt.plot(x_values,regress_values,\"r-\")\n",
    "\n",
    "plt.annotate(line_eq,(6,10),fontsize=15,color=\"red\")\n",
    "\n",
    "plt.xlabel('Lat')\n",
    "plt.ylabel('Cloudiness')\n",
    "print(f\"r-value is: {rvalue}\")\n",
    "plt.show"
   ]
  },
  {
   "cell_type": "code",
   "execution_count": 22,
   "metadata": {},
   "outputs": [
    {
     "name": "stdout",
     "output_type": "stream",
     "text": [
      "r-value is: 0.09536513023795684\n"
     ]
    },
    {
     "data": {
      "text/plain": [
       "<function matplotlib.pyplot.show(close=None, block=None)>"
      ]
     },
     "execution_count": 22,
     "metadata": {},
     "output_type": "execute_result"
    },
    {
     "data": {
      "image/png": "[encoded data removed]",
      "text/plain": [
       "<Figure size 432x288 with 1 Axes>"
      ]
     },
     "metadata": {
      "needs_background": "light"
     },
     "output_type": "display_data"
    }
   ],
   "source": [
    "x_values = city_data_df[\"Lat\"]\n",
    "y_values = city_data_df[\"Wind Speed\"]\n",
    "\n",
    "(slope, intercept, rvalue, pvalue, stderr) = linregress(x_values, y_values)\n",
    "\n",
    "regress_values = x_values * slope + intercept \n",
    "\n",
    "line_eq = \"y = \" + str(round(slope,2)) + \"x + \" + str(round(intercept,2))\n",
    "\n",
    "plt.scatter(x_values,y_values)\n",
    "\n",
    "plt.plot(x_values,regress_values,\"r-\")\n",
    "\n",
    "plt.annotate(line_eq,(6,10),fontsize=15,color=\"red\")\n",
    "\n",
    "plt.xlabel('Lat')\n",
    "plt.ylabel('Wind Speed')\n",
    "print(f\"r-value is: {rvalue}\")\n",
    "plt.show"
   ]
  },
  {
   "cell_type": "code",
   "execution_count": 23,
   "metadata": {},
   "outputs": [
    {
     "data": {
      "text/html": [
       "<div>\n",
       "<style scoped>\n",
       "    .dataframe tbody tr th:only-of-type {\n",
       "        vertical-align: middle;\n",
       "    }\n",
       "\n",
       "    .dataframe tbody tr th {\n",
       "        vertical-align: top;\n",
       "    }\n",
       "\n",
       "    .dataframe thead th {\n",
       "        text-align: right;\n",
       "    }\n",
       "</style>\n",
       "<table border=\"1\" class=\"dataframe\">\n",
       "  <thead>\n",
       "    <tr style=\"text-align: right;\">\n",
       "      <th></th>\n",
       "      <th>City</th>\n",
       "      <th>Lat</th>\n",
       "      <th>Lng</th>\n",
       "      <th>Max Temp</th>\n",
       "      <th>Humidity</th>\n",
       "      <th>Cloudiness</th>\n",
       "      <th>Wind Speed</th>\n",
       "      <th>Country</th>\n",
       "      <th>Date</th>\n",
       "    </tr>\n",
       "    <tr>\n",
       "      <th>City_ID</th>\n",
       "      <th></th>\n",
       "      <th></th>\n",
       "      <th></th>\n",
       "      <th></th>\n",
       "      <th></th>\n",
       "      <th></th>\n",
       "      <th></th>\n",
       "      <th></th>\n",
       "      <th></th>\n",
       "    </tr>\n",
       "  </thead>\n",
       "  <tbody>\n",
       "    <tr>\n",
       "      <th>4</th>\n",
       "      <td>dikson</td>\n",
       "      <td>73.5069</td>\n",
       "      <td>80.5464</td>\n",
       "      <td>22.53</td>\n",
       "      <td>94</td>\n",
       "      <td>100</td>\n",
       "      <td>14.63</td>\n",
       "      <td>RU</td>\n",
       "      <td>1669867296</td>\n",
       "    </tr>\n",
       "    <tr>\n",
       "      <th>5</th>\n",
       "      <td>vardo</td>\n",
       "      <td>70.3705</td>\n",
       "      <td>31.1107</td>\n",
       "      <td>31.98</td>\n",
       "      <td>86</td>\n",
       "      <td>100</td>\n",
       "      <td>8.05</td>\n",
       "      <td>NO</td>\n",
       "      <td>1669867297</td>\n",
       "    </tr>\n",
       "    <tr>\n",
       "      <th>9</th>\n",
       "      <td>susehri</td>\n",
       "      <td>40.1644</td>\n",
       "      <td>38.0867</td>\n",
       "      <td>47.86</td>\n",
       "      <td>82</td>\n",
       "      <td>78</td>\n",
       "      <td>2.48</td>\n",
       "      <td>TR</td>\n",
       "      <td>1669867299</td>\n",
       "    </tr>\n",
       "    <tr>\n",
       "      <th>11</th>\n",
       "      <td>mattru</td>\n",
       "      <td>7.6244</td>\n",
       "      <td>-11.8332</td>\n",
       "      <td>73.20</td>\n",
       "      <td>96</td>\n",
       "      <td>87</td>\n",
       "      <td>0.98</td>\n",
       "      <td>SL</td>\n",
       "      <td>1669867300</td>\n",
       "    </tr>\n",
       "    <tr>\n",
       "      <th>13</th>\n",
       "      <td>wukari</td>\n",
       "      <td>7.8500</td>\n",
       "      <td>9.7833</td>\n",
       "      <td>69.30</td>\n",
       "      <td>31</td>\n",
       "      <td>97</td>\n",
       "      <td>5.28</td>\n",
       "      <td>NG</td>\n",
       "      <td>1669867301</td>\n",
       "    </tr>\n",
       "  </tbody>\n",
       "</table>\n",
       "</div>"
      ],
      "text/plain": [
       "            City      Lat      Lng  Max Temp  Humidity  Cloudiness  \\\n",
       "City_ID                                                              \n",
       "4         dikson  73.5069  80.5464     22.53        94         100   \n",
       "5          vardo  70.3705  31.1107     31.98        86         100   \n",
       "9        susehri  40.1644  38.0867     47.86        82          78   \n",
       "11        mattru   7.6244 -11.8332     73.20        96          87   \n",
       "13        wukari   7.8500   9.7833     69.30        31          97   \n",
       "\n",
       "         Wind Speed Country        Date  \n",
       "City_ID                                  \n",
       "4             14.63      RU  1669867296  \n",
       "5              8.05      NO  1669867297  \n",
       "9              2.48      TR  1669867299  \n",
       "11             0.98      SL  1669867300  \n",
       "13             5.28      NG  1669867301  "
      ]
     },
     "execution_count": 23,
     "metadata": {},
     "output_type": "execute_result"
    }
   ],
   "source": [
    "# Create a DataFrame with the Northern Hemisphere data (Latitude >= 0)\n",
    "northern_hemisphere_df= city_data_df[city_data_df['Lat']>=0]\n",
    "\n",
    "# Display sample data\n",
    "northern_hemisphere_df.head()"
   ]
  },
  {
   "cell_type": "code",
   "execution_count": 24,
   "metadata": {},
   "outputs": [
    {
     "data": {
      "text/html": [
       "<div>\n",
       "<style scoped>\n",
       "    .dataframe tbody tr th:only-of-type {\n",
       "        vertical-align: middle;\n",
       "    }\n",
       "\n",
       "    .dataframe tbody tr th {\n",
       "        vertical-align: top;\n",
       "    }\n",
       "\n",
       "    .dataframe thead th {\n",
       "        text-align: right;\n",
       "    }\n",
       "</style>\n",
       "<table border=\"1\" class=\"dataframe\">\n",
       "  <thead>\n",
       "    <tr style=\"text-align: right;\">\n",
       "      <th></th>\n",
       "      <th>City</th>\n",
       "      <th>Lat</th>\n",
       "      <th>Lng</th>\n",
       "      <th>Max Temp</th>\n",
       "      <th>Humidity</th>\n",
       "      <th>Cloudiness</th>\n",
       "      <th>Wind Speed</th>\n",
       "      <th>Country</th>\n",
       "      <th>Date</th>\n",
       "    </tr>\n",
       "    <tr>\n",
       "      <th>City_ID</th>\n",
       "      <th></th>\n",
       "      <th></th>\n",
       "      <th></th>\n",
       "      <th></th>\n",
       "      <th></th>\n",
       "      <th></th>\n",
       "      <th></th>\n",
       "      <th></th>\n",
       "      <th></th>\n",
       "    </tr>\n",
       "  </thead>\n",
       "  <tbody>\n",
       "    <tr>\n",
       "      <th>0</th>\n",
       "      <td>kruisfontein</td>\n",
       "      <td>-34.0033</td>\n",
       "      <td>24.7314</td>\n",
       "      <td>59.88</td>\n",
       "      <td>83</td>\n",
       "      <td>20</td>\n",
       "      <td>2.51</td>\n",
       "      <td>ZA</td>\n",
       "      <td>1669867295</td>\n",
       "    </tr>\n",
       "    <tr>\n",
       "      <th>1</th>\n",
       "      <td>castro</td>\n",
       "      <td>-24.7911</td>\n",
       "      <td>-50.0119</td>\n",
       "      <td>58.96</td>\n",
       "      <td>98</td>\n",
       "      <td>60</td>\n",
       "      <td>4.45</td>\n",
       "      <td>BR</td>\n",
       "      <td>1669867295</td>\n",
       "    </tr>\n",
       "    <tr>\n",
       "      <th>2</th>\n",
       "      <td>mareeba</td>\n",
       "      <td>-17.0000</td>\n",
       "      <td>145.4333</td>\n",
       "      <td>80.44</td>\n",
       "      <td>80</td>\n",
       "      <td>100</td>\n",
       "      <td>0.31</td>\n",
       "      <td>AU</td>\n",
       "      <td>1669867296</td>\n",
       "    </tr>\n",
       "    <tr>\n",
       "      <th>3</th>\n",
       "      <td>tautira</td>\n",
       "      <td>-17.7333</td>\n",
       "      <td>-149.1500</td>\n",
       "      <td>78.24</td>\n",
       "      <td>83</td>\n",
       "      <td>31</td>\n",
       "      <td>14.38</td>\n",
       "      <td>PF</td>\n",
       "      <td>1669867291</td>\n",
       "    </tr>\n",
       "    <tr>\n",
       "      <th>6</th>\n",
       "      <td>hermanus</td>\n",
       "      <td>-34.4187</td>\n",
       "      <td>19.2345</td>\n",
       "      <td>63.99</td>\n",
       "      <td>83</td>\n",
       "      <td>99</td>\n",
       "      <td>4.54</td>\n",
       "      <td>ZA</td>\n",
       "      <td>1669867297</td>\n",
       "    </tr>\n",
       "  </tbody>\n",
       "</table>\n",
       "</div>"
      ],
      "text/plain": [
       "                 City      Lat       Lng  Max Temp  Humidity  Cloudiness  \\\n",
       "City_ID                                                                    \n",
       "0        kruisfontein -34.0033   24.7314     59.88        83          20   \n",
       "1              castro -24.7911  -50.0119     58.96        98          60   \n",
       "2             mareeba -17.0000  145.4333     80.44        80         100   \n",
       "3             tautira -17.7333 -149.1500     78.24        83          31   \n",
       "6            hermanus -34.4187   19.2345     63.99        83          99   \n",
       "\n",
       "         Wind Speed Country        Date  \n",
       "City_ID                                  \n",
       "0              2.51      ZA  1669867295  \n",
       "1              4.45      BR  1669867295  \n",
       "2              0.31      AU  1669867296  \n",
       "3             14.38      PF  1669867291  \n",
       "6              4.54      ZA  1669867297  "
      ]
     },
     "execution_count": 24,
     "metadata": {},
     "output_type": "execute_result"
    }
   ],
   "source": [
    "# Create a DataFrame with the Southern Hemisphere data (Latitude < 0)\n",
    "southern_hemisphere_df= city_data_df[city_data_df['Lat']<0]\n",
    "\n",
    "# Display sample data\n",
    "southern_hemisphere_df.head()"
   ]
  },
  {
   "cell_type": "markdown",
   "metadata": {},
   "source": [
    "###  Temperature vs. Latitude Linear Regression Plot"
   ]
  },
  {
   "cell_type": "code",
   "execution_count": 25,
   "metadata": {},
   "outputs": [
    {
     "name": "stdout",
     "output_type": "stream",
     "text": [
      "r-value is: -0.842906739036553\n"
     ]
    },
    {
     "data": {
      "text/plain": [
       "<function matplotlib.pyplot.show(close=None, block=None)>"
      ]
     },
     "execution_count": 25,
     "metadata": {},
     "output_type": "execute_result"
    },
    {
     "data": {
      "image/png": "[encoded data removed]",
      "text/plain": [
       "<Figure size 432x288 with 1 Axes>"
      ]
     },
     "metadata": {
      "needs_background": "light"
     },
     "output_type": "display_data"
    }
   ],
   "source": [
    "# Linear regression on Northern Hemisphere\n",
    "x_values = northern_hemisphere_df[\"Lat\"]\n",
    "y_values = northern_hemisphere_df[\"Max Temp\"]\n",
    "\n",
    "(slope, intercept, rvalue, pvalue, stderr) = linregress(x_values, y_values)\n",
    "\n",
    "regress_values = x_values * slope + intercept \n",
    "\n",
    "line_eq = \"y = \" + str(round(slope,2)) + \"x + \" + str(round(intercept,2))\n",
    "\n",
    "plt.scatter(x_values,y_values)\n",
    "\n",
    "plt.plot(x_values,regress_values,\"r-\")\n",
    "\n",
    "plt.annotate(line_eq,(6,10),fontsize=15,color=\"red\")\n",
    "\n",
    "plt.xlabel('Lat')\n",
    "plt.ylabel('Max Temp')\n",
    "print(f\"r-value is: {rvalue}\")\n",
    "plt.show"
   ]
  },
  {
   "cell_type": "code",
   "execution_count": 26,
   "metadata": {},
   "outputs": [
    {
     "name": "stdout",
     "output_type": "stream",
     "text": [
      "r-value is: 0.5819140579878109\n"
     ]
    },
    {
     "data": {
      "text/plain": [
       "<function matplotlib.pyplot.show(close=None, block=None)>"
      ]
     },
     "execution_count": 26,
     "metadata": {},
     "output_type": "execute_result"
    },
    {
     "data": {
      "image/png": "[encoded data removed]",
      "text/plain": [
       "<Figure size 432x288 with 1 Axes>"
      ]
     },
     "metadata": {
      "needs_background": "light"
     },
     "output_type": "display_data"
    }
   ],
   "source": [
    "# Linear regression on Southern Hemisphere\n",
    "x_values = southern_hemisphere_df[\"Lat\"]\n",
    "y_values = southern_hemisphere_df[\"Max Temp\"]\n",
    "\n",
    "(slope, intercept, rvalue, pvalue, stderr) = linregress(x_values, y_values)\n",
    "\n",
    "regress_values = x_values * slope + intercept \n",
    "\n",
    "line_eq = \"y = \" + str(round(slope,2)) + \"x + \" + str(round(intercept,2))\n",
    "\n",
    "plt.scatter(x_values,y_values)\n",
    "\n",
    "plt.plot(x_values,regress_values,\"r-\")\n",
    "\n",
    "plt.annotate(line_eq,(6,10),fontsize=15,color=\"red\")\n",
    "\n",
    "plt.xlabel('Lat')\n",
    "plt.ylabel('Max Temp')\n",
    "print(f\"r-value is: {rvalue}\")\n",
    "plt.show"
   ]
  },
  {
   "cell_type": "markdown",
   "metadata": {},
   "source": [
    "**Discussion about the linear relationship:** YOUR RESPONSE HERE"
   ]
  },
  {
   "cell_type": "markdown",
   "metadata": {},
   "source": [
    "# In regards to temperature and latitiude, we can see that the northern hemisphere had a stronger correlation between temperature and latitude compared to the sourthern hemisphere after analyzing the rvalue of both graphs. The closer the r-value is to 1 the stronger the correlation."
   ]
  },
  {
   "cell_type": "markdown",
   "metadata": {},
   "source": [
    "### Humidity vs. Latitude Linear Regression Plot"
   ]
  },
  {
   "cell_type": "code",
   "execution_count": 27,
   "metadata": {},
   "outputs": [
    {
     "name": "stdout",
     "output_type": "stream",
     "text": [
      "r-value is: 0.3708403107177104\n"
     ]
    },
    {
     "data": {
      "text/plain": [
       "<function matplotlib.pyplot.show(close=None, block=None)>"
      ]
     },
     "execution_count": 27,
     "metadata": {},
     "output_type": "execute_result"
    },
    {
     "data": {
      "image/png": "[encoded data removed]",
      "text/plain": [
       "<Figure size 432x288 with 1 Axes>"
      ]
     },
     "metadata": {
      "needs_background": "light"
     },
     "output_type": "display_data"
    }
   ],
   "source": [
    "# Northern Hemisphere\n",
    "x_values = northern_hemisphere_df[\"Lat\"]\n",
    "y_values = northern_hemisphere_df[\"Humidity\"]\n",
    "\n",
    "(slope, intercept, rvalue, pvalue, stderr) = linregress(x_values, y_values)\n",
    "\n",
    "regress_values = x_values * slope + intercept \n",
    "\n",
    "line_eq = \"y = \" + str(round(slope,2)) + \"x + \" + str(round(intercept,2))\n",
    "\n",
    "plt.scatter(x_values,y_values)\n",
    "\n",
    "plt.plot(x_values,regress_values,\"r-\")\n",
    "\n",
    "plt.annotate(line_eq,(6,10),fontsize=15,color=\"red\")\n",
    "\n",
    "plt.xlabel('Lat')\n",
    "plt.ylabel('Humidity')\n",
    "print(f\"r-value is: {rvalue}\")\n",
    "plt.show"
   ]
  },
  {
   "cell_type": "code",
   "execution_count": 28,
   "metadata": {},
   "outputs": [
    {
     "name": "stdout",
     "output_type": "stream",
     "text": [
      "r-value is: 0.20635666614413894\n"
     ]
    },
    {
     "data": {
      "text/plain": [
       "<function matplotlib.pyplot.show(close=None, block=None)>"
      ]
     },
     "execution_count": 28,
     "metadata": {},
     "output_type": "execute_result"
    },
    {
     "data": {
      "image/png": "[encoded data removed]",
      "text/plain": [
       "<Figure size 432x288 with 1 Axes>"
      ]
     },
     "metadata": {
      "needs_background": "light"
     },
     "output_type": "display_data"
    }
   ],
   "source": [
    "# Southern Hemisphere\n",
    "x_values = southern_hemisphere_df[\"Lat\"]\n",
    "y_values = southern_hemisphere_df[\"Humidity\"]\n",
    "\n",
    "(slope, intercept, rvalue, pvalue, stderr) = linregress(x_values, y_values)\n",
    "\n",
    "regress_values = x_values * slope + intercept \n",
    "\n",
    "line_eq = \"y = \" + str(round(slope,2)) + \"x + \" + str(round(intercept,2))\n",
    "\n",
    "plt.scatter(x_values,y_values)\n",
    "\n",
    "plt.plot(x_values,regress_values,\"r-\")\n",
    "\n",
    "plt.annotate(line_eq,(6,10),fontsize=15,color=\"red\")\n",
    "\n",
    "plt.xlabel('Lat')\n",
    "plt.ylabel('Humidity')\n",
    "print(f\"r-value is: {rvalue}\")\n",
    "plt.show"
   ]
  },
  {
   "cell_type": "markdown",
   "metadata": {},
   "source": [
    "**Discussion about the linear relationship:** YOUR RESPONSE HERE"
   ]
  },
  {
   "cell_type": "markdown",
   "metadata": {},
   "source": [
    "# We can see that there is a slightly higher correlation for latitude and humidity for the northern hemisphere compared to the southern hemisphere since the r-value for northern was .3 comapred to southern which was .2.\n",
    "\n",
    "\n",
    "\n",
    "\n"
   ]
  },
  {
   "cell_type": "markdown",
   "metadata": {},
   "source": [
    "### Cloudiness vs. Latitude Linear Regression Plot"
   ]
  },
  {
   "cell_type": "code",
   "execution_count": 32,
   "metadata": {},
   "outputs": [
    {
     "name": "stdout",
     "output_type": "stream",
     "text": [
      "r-value is: 0.23691666186604415\n"
     ]
    },
    {
     "data": {
      "text/plain": [
       "<function matplotlib.pyplot.show(close=None, block=None)>"
      ]
     },
     "execution_count": 32,
     "metadata": {},
     "output_type": "execute_result"
    },
    {
     "data": {
      "image/png": "[encoded data removed]",
      "text/plain": [
       "<Figure size 432x288 with 1 Axes>"
      ]
     },
     "metadata": {
      "needs_background": "light"
     },
     "output_type": "display_data"
    }
   ],
   "source": [
    "# Northern Hemisphere\n",
    "x_values = northern_hemisphere_df[\"Lat\"]\n",
    "y_values = northern_hemisphere_df[\"Cloudiness\"]\n",
    "\n",
    "(slope, intercept, rvalue, pvalue, stderr) = linregress(x_values, y_values)\n",
    "\n",
    "regress_values = x_values * slope + intercept \n",
    "\n",
    "line_eq = \"y = \" + str(round(slope,2)) + \"x + \" + str(round(intercept,2))\n",
    "\n",
    "plt.scatter(x_values,y_values)\n",
    "\n",
    "plt.plot(x_values,regress_values,\"r-\")\n",
    "\n",
    "plt.annotate(line_eq,(6,10),fontsize=15,color=\"red\")\n",
    "\n",
    "plt.xlabel('Lat')\n",
    "plt.ylabel('Cloudiness')\n",
    "print(f\"r-value is: {rvalue}\")\n",
    "plt.show"
   ]
  },
  {
   "cell_type": "code",
   "execution_count": 33,
   "metadata": {},
   "outputs": [
    {
     "name": "stdout",
     "output_type": "stream",
     "text": [
      "r-value is: 0.360976723850784\n"
     ]
    },
    {
     "data": {
      "text/plain": [
       "<function matplotlib.pyplot.show(close=None, block=None)>"
      ]
     },
     "execution_count": 33,
     "metadata": {},
     "output_type": "execute_result"
    },
    {
     "data": {
      "image/png": "[encoded data removed]",
      "text/plain": [
       "<Figure size 432x288 with 1 Axes>"
      ]
     },
     "metadata": {
      "needs_background": "light"
     },
     "output_type": "display_data"
    }
   ],
   "source": [
    "# Southern Hemisphere\n",
    "x_values = southern_hemisphere_df[\"Lat\"]\n",
    "y_values = southern_hemisphere_df[\"Cloudiness\"]\n",
    "\n",
    "(slope, intercept, rvalue, pvalue, stderr) = linregress(x_values, y_values)\n",
    "\n",
    "regress_values = x_values * slope + intercept \n",
    "\n",
    "line_eq = \"y = \" + str(round(slope,2)) + \"x + \" + str(round(intercept,2))\n",
    "\n",
    "plt.scatter(x_values,y_values)\n",
    "\n",
    "plt.plot(x_values,regress_values,\"r-\")\n",
    "\n",
    "plt.annotate(line_eq,(6,10),fontsize=15,color=\"red\")\n",
    "\n",
    "plt.xlabel('Lat')\n",
    "plt.ylabel('Cloudiness')\n",
    "print(f\"r-value is: {rvalue}\")\n",
    "plt.show"
   ]
  },
  {
   "cell_type": "markdown",
   "metadata": {},
   "source": [
    "**Discussion about the linear relationship:** YOUR RESPONSE HERE"
   ]
  },
  {
   "cell_type": "markdown",
   "metadata": {},
   "source": [
    "# There is a weak correlation between latitude and cloudiness in both northern or southern hemishperes since the r-values were .2 and .3 for both. But Noerhtern hemisphere had a slightly stronger correlation. "
   ]
  },
  {
   "cell_type": "markdown",
   "metadata": {},
   "source": [
    "### Wind Speed vs. Latitude Linear Regression Plot"
   ]
  },
  {
   "cell_type": "code",
   "execution_count": 34,
   "metadata": {},
   "outputs": [
    {
     "name": "stdout",
     "output_type": "stream",
     "text": [
      "r-value is: 0.16895781653165182\n"
     ]
    },
    {
     "data": {
      "text/plain": [
       "<function matplotlib.pyplot.show(close=None, block=None)>"
      ]
     },
     "execution_count": 34,
     "metadata": {},
     "output_type": "execute_result"
    },
    {
     "data": {
      "image/png": "[encoded data removed]",
      "text/plain": [
       "<Figure size 432x288 with 1 Axes>"
      ]
     },
     "metadata": {
      "needs_background": "light"
     },
     "output_type": "display_data"
    }
   ],
   "source": [
    "# Northern Hemisphere\n",
    "x_values = northern_hemisphere_df[\"Lat\"]\n",
    "y_values = northern_hemisphere_df[\"Wind Speed\"]\n",
    "\n",
    "(slope, intercept, rvalue, pvalue, stderr) = linregress(x_values, y_values)\n",
    "\n",
    "regress_values = x_values * slope + intercept \n",
    "\n",
    "line_eq = \"y = \" + str(round(slope,2)) + \"x + \" + str(round(intercept,2))\n",
    "\n",
    "plt.scatter(x_values,y_values)\n",
    "\n",
    "plt.plot(x_values,regress_values,\"r-\")\n",
    "\n",
    "plt.annotate(line_eq,(6,10),fontsize=15,color=\"red\")\n",
    "\n",
    "plt.xlabel('Lat')\n",
    "plt.ylabel('Wind Speed')\n",
    "print(f\"r-value is: {rvalue}\")\n",
    "plt.show"
   ]
  },
  {
   "cell_type": "code",
   "execution_count": 35,
   "metadata": {},
   "outputs": [
    {
     "name": "stdout",
     "output_type": "stream",
     "text": [
      "r-value is: -0.3715205540743018\n"
     ]
    },
    {
     "data": {
      "text/plain": [
       "<function matplotlib.pyplot.show(close=None, block=None)>"
      ]
     },
     "execution_count": 35,
     "metadata": {},
     "output_type": "execute_result"
    },
    {
     "data": {
      "image/png": "[encoded data removed]",
      "text/plain": [
       "<Figure size 432x288 with 1 Axes>"
      ]
     },
     "metadata": {
      "needs_background": "light"
     },
     "output_type": "display_data"
    }
   ],
   "source": [
    "# Southern Hemisphere\n",
    "x_values = southern_hemisphere_df[\"Lat\"]\n",
    "y_values = southern_hemisphere_df[\"Wind Speed\"]\n",
    "\n",
    "(slope, intercept, rvalue, pvalue, stderr) = linregress(x_values, y_values)\n",
    "\n",
    "regress_values = x_values * slope + intercept \n",
    "\n",
    "line_eq = \"y = \" + str(round(slope,2)) + \"x + \" + str(round(intercept,2))\n",
    "\n",
    "plt.scatter(x_values,y_values)\n",
    "\n",
    "plt.plot(x_values,regress_values,\"r-\")\n",
    "\n",
    "plt.annotate(line_eq,(6,10),fontsize=15,color=\"red\")\n",
    "\n",
    "plt.xlabel('Lat')\n",
    "plt.ylabel('Wind Speed')\n",
    "print(f\"r-value is: {rvalue}\")\n",
    "plt.show"
   ]
  },
  {
   "cell_type": "markdown",
   "metadata": {},
   "source": [
    "**Discussion about the linear relationship:** YOUR RESPONSE HERE"
   ]
  },
  {
   "cell_type": "markdown",
   "metadata": {},
   "source": [
    "# The southern hemisphere has a stronger correlation between wind speed and latitude since it had an r-value of .3 compared to the rvalue of .1 we saw for northern hemisphere. "
   ]
  },
  {
   "cell_type": "code",
   "execution_count": null,
   "metadata": {},
   "outputs": [],
   "source": []
  }
 ],
 "metadata": {
  "anaconda-cloud": {},
  "kernel_info": {
   "name": "python3"
  },
  "kernelspec": {
   "display_name": "Python 3 (ipykernel)",
   "language": "python",
   "name": "python3"
  },
  "language_info": {
   "codemirror_mode": {
    "name": "ipython",
    "version": 3
   },
   "file_extension": ".py",
   "mimetype": "text/x-python",
   "name": "python",
   "nbconvert_exporter": "python",
   "pygments_lexer": "ipython3",
   "version": "3.9.12"
  },
  "latex_envs": {
   "LaTeX_envs_menu_present": true,
   "autoclose": false,
   "autocomplete": true,
   "bibliofile": "biblio.bib",
   "cite_by": "apalike",
   "current_citInitial": 1,
   "eqLabelWithNumbers": true,
   "eqNumInitial": 1,
   "hotkeys": {
    "equation": "Ctrl-E",
    "itemize": "Ctrl-I"
   },
   "labels_anchors": false,
   "latex_user_defs": false,
   "report_style_numbering": false,
   "user_envs_cfg": false
  },
  "nteract": {
   "version": "0.12.3"
  }
 },
 "nbformat": 4,
 "nbformat_minor": 4
}
